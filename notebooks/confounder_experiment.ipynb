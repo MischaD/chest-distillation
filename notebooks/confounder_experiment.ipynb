{
 "cells": [
  {
   "cell_type": "code",
   "execution_count": 1,
   "metadata": {
    "collapsed": true
   },
   "outputs": [
    {
     "name": "stderr",
     "output_type": "stream",
     "text": [
      "/vol/ideadata/ed52egek/conda/chest/lib/python3.9/site-packages/tqdm/auto.py:22: TqdmWarning: IProgress not found. Please update jupyter and ipywidgets. See https://ipywidgets.readthedocs.io/en/stable/user_install.html\n",
      "  from .autonotebook import tqdm as notebook_tqdm\n"
     ]
    },
    {
     "name": "stdout",
     "output_type": "stream",
     "text": [
      "2023-06-22 18:24:39,963 | utils.py-main_setup-0288 | INFO | Log dir: /vol/ideadata/ed52egek/pycharm/chest-distillation/log/confounder_notebook_learnable/2023-06-22T18-24-39\n",
      "2023-06-22 18:24:39,966 | log.py-log_experiment-0021 | INFO | Args: {'EXP_PATH': 'src/experiments/default_cfg.py', 'EXP_NAME': 'confounder_notebook_learnable'}\n",
      "2023-06-22 18:24:39,967 | log.py-log_experiment-0023 | INFO | Exp Path: src/experiments/default_cfg.py\n",
      "Saving to /vol/ideadata/ed52egek/pycharm/chest-distillation/log/confounder_notebook_learnable\n"
     ]
    }
   ],
   "source": [
    "import os\n",
    "import pandas as pd\n",
    "if os.path.basename(os.path.abspath(\".\")) == \"notebooks\":\n",
    "    os.chdir(\"..\")\n",
    "from utils import main_setup, AttributeDict\n",
    "from omegaconf import OmegaConf\n",
    "from torch import autocast\n",
    "from src.datasets import get_dataset\n",
    "from utils import load_model_from_config, collate_batch\n",
    "from src.visualization.utils import word_to_slice\n",
    "from torch.utils.data import DataLoader\n",
    "from tqdm import tqdm\n",
    "import torch\n",
    "from src.preliminary_masks import preprocess_attention_maps\n",
    "from src.visualization.utils import MIMIC_STRING_TO_ATTENTION\n",
    "import numpy as np\n",
    "import torchvision\n",
    "from src.foreground_masks import GMMMaskSuggestor\n",
    "from einops import repeat\n",
    "\n",
    "\n",
    "MODELS = [\"sdv2\", \"frozen\", \"learnable\"]\n",
    "PGM = [True, False]\n",
    "experiments = {model:{} for model in MODELS}\n",
    "\n",
    "args = AttributeDict(EXP_PATH=\"src/experiments/default_cfg.py\", EXP_NAME=\"confounder_notebook_learnable\")\n",
    "config = main_setup(args)\n",
    "\n",
    "config.log_dir = os.path.dirname(config.log_dir)\n",
    "print(f\"Saving to {config.log_dir}\")"
   ]
  },
  {
   "cell_type": "code",
   "execution_count": 2,
   "outputs": [],
   "source": [
    "def convert(x):\n",
    "    x = x.rstrip(\")\").lstrip(\"tensor(\")\n",
    "    try:\n",
    "        x = float(x)\n",
    "    except ValueError:\n",
    "        #happens if query too long --> some don't have a value - will be removed in next step\n",
    "        pass\n",
    "    return x\n",
    "\n",
    "\n",
    "for model in MODELS:\n",
    "    experiments[model] = {True:{}, False:{}}\n",
    "    for pgm in [True, False]:\n",
    "        experiments[model][pgm] = {\"token\":\"\", \"positional\":\"\"}\n",
    "        experiments[model][pgm][\"token\"] = pd.read_csv(os.path.join(config.log_dir, f\"{model}_{pgm}_results.csv\"))\n",
    "        experiments[model][pgm][\"positional\"] = pd.read_csv(os.path.join(config.log_dir, f\"{model}_{pgm}_results_positional.csv\"))\n",
    "        experiments[model][pgm][\"token\"][\"cnr\"] = experiments[model][pgm][\"token\"][\"cnr\"].map(convert)\n",
    "        experiments[model][pgm][\"positional\"][\"cnr\"] = experiments[model][pgm][\"positional\"][\"cnr\"].map(convert)\n",
    "\n",
    "    # some queries are too long for the input of the conditional model. In these case we remove\n",
    "    experiments[model][False][\"token\"] = experiments[model][False][\"token\"][experiments[model][False][\"token\"][\"cnr\"] != \"an\"]\n",
    "\n"
   ],
   "metadata": {
    "collapsed": false
   }
  },
  {
   "cell_type": "code",
   "execution_count": 3,
   "outputs": [
    {
     "data": {
      "text/plain": "       Unnamed: 0                                           rel_path  \\\n0               0  files/p10/p10233088/s54276838/675d792f-a3521e4...   \n1               1  files/p10/p10233088/s54276838/675d792f-a3521e4...   \n2               2  files/p10/p10233088/s54276838/675d792f-a3521e4...   \n3               3  files/p10/p10233088/s54276838/675d792f-a3521e4...   \n4               4  files/p10/p10233088/s54276838/675d792f-a3521e4...   \n...           ...                                                ...   \n39617       39617  files/p13/p13859188/s52811469/0677ec27-6132843...   \n39618       39618  files/p13/p13859188/s52811469/0677ec27-6132843...   \n39619       39619  files/p13/p13859188/s52811469/0677ec27-6132843...   \n39620       39620  files/p13/p13859188/s52811469/0677ec27-6132843...   \n39621       39621  files/p13/p13859188/s52811469/0677ec27-6132843...   \n\n              word    finding_labels     cnr  \n0            <SOS>         Pneumonia -0.5181  \n1        Increased         Pneumonia -0.0136  \n2        bibasilar         Pneumonia -0.3677  \n3        opacities         Pneumonia -0.3952  \n4       consistent         Pneumonia -0.2258  \n...            ...               ...     ...  \n39617          the  Pleural Effusion -0.0682  \n39618  possibility  Pleural Effusion -0.0178  \n39619           of  Pleural Effusion -0.0433  \n39620         UIP.  Pleural Effusion -0.0571  \n39621        <EOS>  Pleural Effusion  0.2839  \n\n[33418 rows x 5 columns]",
      "text/html": "<div>\n<style scoped>\n    .dataframe tbody tr th:only-of-type {\n        vertical-align: middle;\n    }\n\n    .dataframe tbody tr th {\n        vertical-align: top;\n    }\n\n    .dataframe thead th {\n        text-align: right;\n    }\n</style>\n<table border=\"1\" class=\"dataframe\">\n  <thead>\n    <tr style=\"text-align: right;\">\n      <th></th>\n      <th>Unnamed: 0</th>\n      <th>rel_path</th>\n      <th>word</th>\n      <th>finding_labels</th>\n      <th>cnr</th>\n    </tr>\n  </thead>\n  <tbody>\n    <tr>\n      <th>0</th>\n      <td>0</td>\n      <td>files/p10/p10233088/s54276838/675d792f-a3521e4...</td>\n      <td>&lt;SOS&gt;</td>\n      <td>Pneumonia</td>\n      <td>-0.5181</td>\n    </tr>\n    <tr>\n      <th>1</th>\n      <td>1</td>\n      <td>files/p10/p10233088/s54276838/675d792f-a3521e4...</td>\n      <td>Increased</td>\n      <td>Pneumonia</td>\n      <td>-0.0136</td>\n    </tr>\n    <tr>\n      <th>2</th>\n      <td>2</td>\n      <td>files/p10/p10233088/s54276838/675d792f-a3521e4...</td>\n      <td>bibasilar</td>\n      <td>Pneumonia</td>\n      <td>-0.3677</td>\n    </tr>\n    <tr>\n      <th>3</th>\n      <td>3</td>\n      <td>files/p10/p10233088/s54276838/675d792f-a3521e4...</td>\n      <td>opacities</td>\n      <td>Pneumonia</td>\n      <td>-0.3952</td>\n    </tr>\n    <tr>\n      <th>4</th>\n      <td>4</td>\n      <td>files/p10/p10233088/s54276838/675d792f-a3521e4...</td>\n      <td>consistent</td>\n      <td>Pneumonia</td>\n      <td>-0.2258</td>\n    </tr>\n    <tr>\n      <th>...</th>\n      <td>...</td>\n      <td>...</td>\n      <td>...</td>\n      <td>...</td>\n      <td>...</td>\n    </tr>\n    <tr>\n      <th>39617</th>\n      <td>39617</td>\n      <td>files/p13/p13859188/s52811469/0677ec27-6132843...</td>\n      <td>the</td>\n      <td>Pleural Effusion</td>\n      <td>-0.0682</td>\n    </tr>\n    <tr>\n      <th>39618</th>\n      <td>39618</td>\n      <td>files/p13/p13859188/s52811469/0677ec27-6132843...</td>\n      <td>possibility</td>\n      <td>Pleural Effusion</td>\n      <td>-0.0178</td>\n    </tr>\n    <tr>\n      <th>39619</th>\n      <td>39619</td>\n      <td>files/p13/p13859188/s52811469/0677ec27-6132843...</td>\n      <td>of</td>\n      <td>Pleural Effusion</td>\n      <td>-0.0433</td>\n    </tr>\n    <tr>\n      <th>39620</th>\n      <td>39620</td>\n      <td>files/p13/p13859188/s52811469/0677ec27-6132843...</td>\n      <td>UIP.</td>\n      <td>Pleural Effusion</td>\n      <td>-0.0571</td>\n    </tr>\n    <tr>\n      <th>39621</th>\n      <td>39621</td>\n      <td>files/p13/p13859188/s52811469/0677ec27-6132843...</td>\n      <td>&lt;EOS&gt;</td>\n      <td>Pleural Effusion</td>\n      <td>0.2839</td>\n    </tr>\n  </tbody>\n</table>\n<p>33418 rows × 5 columns</p>\n</div>"
     },
     "execution_count": 3,
     "metadata": {},
     "output_type": "execute_result"
    }
   ],
   "source": [
    "res = experiments[model][False][\"token\"]\n",
    "res = res[res[\"cnr\"] != \"an\"] # if query is too long for token\n",
    "res"
   ],
   "metadata": {
    "collapsed": false
   }
  },
  {
   "cell_type": "markdown",
   "source": [
    "# Is there anything special about the position of the token and the localization accuracy?"
   ],
   "metadata": {
    "collapsed": false
   }
  },
  {
   "cell_type": "code",
   "execution_count": 4,
   "outputs": [
    {
     "data": {
      "text/plain": "<Figure size 480.315x296.851 with 1 Axes>",
      "image/png": "[encoded data removed]"
     },
     "metadata": {},
     "output_type": "display_data"
    }
   ],
   "source": [
    "import matplotlib.pyplot as plt\n",
    "from utils import update_matplotlib_font, set_size\n",
    "\n",
    "update_matplotlib_font(fontsize=11, fontsize_ticks=8, tex=True)\n",
    "fig, ax = plt.subplots(1, 1, figsize=set_size(\"MICCAI\"))\n",
    "\n",
    "c = [\"#1f77b5\", \"#ff7f11\", \"#2da02d\"]\n",
    "for i, model in enumerate(MODELS):\n",
    "    for pgm in [True, False]:\n",
    "        res = experiments[model][pgm][\"positional\"]\n",
    "        cnr = res.groupby(\"position\").mean(numeric_only=True)[\"cnr\"]\n",
    "        #cnr_std = res.groupby(\"position\").var(numeric_only=True)[\"cnr\"]\n",
    "        #ax.fill_between(np.arange(len(cnr)), np.array(cnr) - np.array(cnr_std), np.array(cnr) + np.array(cnr_std), color=c[i], alpha=0.2)\n",
    "        linestyle = \"-\" if pgm else \"--\"\n",
    "\n",
    "        model_name_map = {\"sdv2\": \"SDv2\", \"frozen\": \"Finetune$_F$\", \"learnable\":\"Finetune$_L$\"}\n",
    "        pgm_name_map = {True: \"MS-CXR\", False: \"Mimic\"}\n",
    "        label = model_name_map[model] + \" \" + pgm_name_map[pgm]\n",
    "        ax.plot(np.arange(len(cnr)), cnr, label=label, color=c[i], linestyle=linestyle)\n",
    "\n",
    "ax.set_ylim(-0.4, 0.83)\n",
    "ax.set_xlim(0, 76)\n",
    "ax.set_xlabel('Token position')\n",
    "ax.set_ylabel('CNR')\n",
    "ax.hlines(0, 76, 0., linestyle=\"--\", color=\"black\")\n",
    "\n",
    "ax.legend()\n",
    "\n",
    "fig.savefig(os.path.join(config.log_dir, \"positional_experiment.pdf\"), format='pdf', bbox_inches='tight')\n"
   ],
   "metadata": {
    "collapsed": false
   }
  },
  {
   "cell_type": "markdown",
   "source": [
    "Not really. Looks pretty standard. Peak in the beggining comes from tokens with high information content appearing at the begging of the sentence\n",
    "\n",
    "# Find highest mathing word in terms of localization for each disease but only for words appearning more than 25 times in our test data\n"
   ],
   "metadata": {
    "collapsed": false
   }
  },
  {
   "cell_type": "code",
   "execution_count": 5,
   "outputs": [
    {
     "data": {
      "text/plain": "         disease       cnr          word  occ\n20  Pneumothorax  0.954817         small   70\n19  Pneumothorax  0.695520          left   85\n17  Pneumothorax  0.687511        apical  119\n15  Pneumothorax  0.685037         <EOS>  245\n16  Pneumothorax  0.609379  pneumothorax  226\n..           ...       ...           ...  ...\n30  Cardiomegaly -0.295357            is  165\n32  Cardiomegaly -0.303050       present   48\n36   Atelectasis  0.803713         <EOS>   61\n35   Atelectasis -0.167359         <SOS>   61\n37   Atelectasis -0.227442   atelectasis   50\n\n[70 rows x 4 columns]",
      "text/html": "<div>\n<style scoped>\n    .dataframe tbody tr th:only-of-type {\n        vertical-align: middle;\n    }\n\n    .dataframe tbody tr th {\n        vertical-align: top;\n    }\n\n    .dataframe thead th {\n        text-align: right;\n    }\n</style>\n<table border=\"1\" class=\"dataframe\">\n  <thead>\n    <tr style=\"text-align: right;\">\n      <th></th>\n      <th>disease</th>\n      <th>cnr</th>\n      <th>word</th>\n      <th>occ</th>\n    </tr>\n  </thead>\n  <tbody>\n    <tr>\n      <th>20</th>\n      <td>Pneumothorax</td>\n      <td>0.954817</td>\n      <td>small</td>\n      <td>70</td>\n    </tr>\n    <tr>\n      <th>19</th>\n      <td>Pneumothorax</td>\n      <td>0.695520</td>\n      <td>left</td>\n      <td>85</td>\n    </tr>\n    <tr>\n      <th>17</th>\n      <td>Pneumothorax</td>\n      <td>0.687511</td>\n      <td>apical</td>\n      <td>119</td>\n    </tr>\n    <tr>\n      <th>15</th>\n      <td>Pneumothorax</td>\n      <td>0.685037</td>\n      <td>&lt;EOS&gt;</td>\n      <td>245</td>\n    </tr>\n    <tr>\n      <th>16</th>\n      <td>Pneumothorax</td>\n      <td>0.609379</td>\n      <td>pneumothorax</td>\n      <td>226</td>\n    </tr>\n    <tr>\n      <th>...</th>\n      <td>...</td>\n      <td>...</td>\n      <td>...</td>\n      <td>...</td>\n    </tr>\n    <tr>\n      <th>30</th>\n      <td>Cardiomegaly</td>\n      <td>-0.295357</td>\n      <td>is</td>\n      <td>165</td>\n    </tr>\n    <tr>\n      <th>32</th>\n      <td>Cardiomegaly</td>\n      <td>-0.303050</td>\n      <td>present</td>\n      <td>48</td>\n    </tr>\n    <tr>\n      <th>36</th>\n      <td>Atelectasis</td>\n      <td>0.803713</td>\n      <td>&lt;EOS&gt;</td>\n      <td>61</td>\n    </tr>\n    <tr>\n      <th>35</th>\n      <td>Atelectasis</td>\n      <td>-0.167359</td>\n      <td>&lt;SOS&gt;</td>\n      <td>61</td>\n    </tr>\n    <tr>\n      <th>37</th>\n      <td>Atelectasis</td>\n      <td>-0.227442</td>\n      <td>atelectasis</td>\n      <td>50</td>\n    </tr>\n  </tbody>\n</table>\n<p>70 rows × 4 columns</p>\n</div>"
     },
     "execution_count": 5,
     "metadata": {},
     "output_type": "execute_result"
    }
   ],
   "source": [
    "model = \"learnable\"\n",
    "pgm = True\n",
    "res = experiments[model][pgm][\"token\"]\n",
    "\n",
    "diseases = res[\"finding_labels\"].unique()\n",
    "#diseases = [\"Pneumonia\",]\n",
    "def str_to_float(x):\n",
    "    # tensor(-1.330) --> -1.330\n",
    "    if isinstance(x, float) :\n",
    "        return x\n",
    "    x = x.lstrip(\"tensor(\")\n",
    "    x = x.rstrip(\")\")\n",
    "    return float(x)\n",
    "\n",
    "mean_cnr_results =  {\"disease\":[], \"cnr\": [], \"word\": [], \"occ\": []}\n",
    "res[\"cnr\"] = res[\"cnr\"].map(str_to_float)\n",
    "for disease in diseases:\n",
    "    sub_res = res[res[\"finding_labels\"] == disease]\n",
    "    word_count = sub_res[\"word\"].value_counts()#.count()#.sort_values(\"rel_path\", ascending=False)\n",
    "    for word in list(word_count[word_count > 25].index):\n",
    "        sub_res_word = sub_res[sub_res[\"word\"] == word]\n",
    "        mean_cnr_results[\"disease\"].append(disease)\n",
    "        mean_cnr_results[\"cnr\"].append(sub_res_word[\"cnr\"].mean())\n",
    "        mean_cnr_results[\"word\"].append(word)\n",
    "        mean_cnr_results[\"occ\"].append(len(sub_res_word))\n",
    "\n",
    "\n",
    "mean_cnr_results = pd.DataFrame(mean_cnr_results)\n",
    "mean_cnr_results = mean_cnr_results.sort_values([\"disease\", \"cnr\"], ascending=False)\n",
    "#mean_cnr_results.to_csv(os.path.join(config.log_dir, f\"{model_name}_morethan25_results.csv\"))\n",
    "mean_cnr_results"
   ],
   "metadata": {
    "collapsed": false
   }
  },
  {
   "cell_type": "markdown",
   "source": [
    "# EOS was pretty good for learnable so check if it beats frozen"
   ],
   "metadata": {
    "collapsed": false
   }
  },
  {
   "cell_type": "code",
   "execution_count": 6,
   "outputs": [
    {
     "name": "stdout",
     "output_type": "stream",
     "text": [
      "sdv2\n",
      "                   Unnamed: 0       cnr\n",
      "finding_labels                         \n",
      "Atelectasis       4586.131148  0.365852\n",
      "Cardiomegaly      6024.396396  0.235824\n",
      "Consolidation     4494.282051  0.548938\n",
      "Edema             5033.869565  0.728778\n",
      "Lung Opacity      7231.670732  0.546028\n",
      "Pleural Effusion  8450.760417  0.026503\n",
      "Pneumonia         1332.945055  0.448623\n",
      "Pneumothorax      1678.000000  0.376471\n",
      "Unnamed: 0    4390.054217\n",
      "cnr              0.361273\n",
      "dtype: float64\n",
      "==================================================\n",
      "frozen\n",
      "                   Unnamed: 0       cnr\n",
      "finding_labels                         \n",
      "Atelectasis       4586.131148  0.852939\n",
      "Cardiomegaly      6024.396396  0.551751\n",
      "Consolidation     4494.282051  1.193613\n",
      "Edema             5033.869565  0.956183\n",
      "Lung Opacity      7231.670732  1.064356\n",
      "Pleural Effusion  8450.760417  0.448881\n",
      "Pneumonia         1332.945055  0.982320\n",
      "Pneumothorax      1678.000000  0.435417\n",
      "Unnamed: 0    4390.054217\n",
      "cnr              0.718785\n",
      "dtype: float64\n",
      "==================================================\n",
      "learnable\n",
      "                   Unnamed: 0       cnr\n",
      "finding_labels                         \n",
      "Atelectasis       4586.131148  0.803713\n",
      "Cardiomegaly      6024.396396  0.370674\n",
      "Consolidation     4494.282051  0.991191\n",
      "Edema             5033.869565  0.903135\n",
      "Lung Opacity      7231.670732  0.966562\n",
      "Pleural Effusion  8450.760417  0.521506\n",
      "Pneumonia         1332.945055  0.885995\n",
      "Pneumothorax      1678.000000  0.685037\n",
      "Unnamed: 0    4390.054217\n",
      "cnr              0.678470\n",
      "dtype: float64\n",
      "==================================================\n"
     ]
    },
    {
     "name": "stderr",
     "output_type": "stream",
     "text": [
      "/tmp/ipykernel_815009/2825003880.py:5: FutureWarning: The default value of numeric_only in DataFrameGroupBy.mean is deprecated. In a future version, numeric_only will default to False. Either specify numeric_only or select only columns which should be valid for the function.\n",
      "  print(res.groupby(\"finding_labels\").mean())\n",
      "/tmp/ipykernel_815009/2825003880.py:6: FutureWarning: The default value of numeric_only in DataFrame.mean is deprecated. In a future version, it will default to False. In addition, specifying 'numeric_only=None' is deprecated. Select only valid columns or specify the value of numeric_only to silence this warning.\n",
      "  print(res.mean())\n",
      "/tmp/ipykernel_815009/2825003880.py:5: FutureWarning: The default value of numeric_only in DataFrameGroupBy.mean is deprecated. In a future version, numeric_only will default to False. Either specify numeric_only or select only columns which should be valid for the function.\n",
      "  print(res.groupby(\"finding_labels\").mean())\n",
      "/tmp/ipykernel_815009/2825003880.py:6: FutureWarning: The default value of numeric_only in DataFrame.mean is deprecated. In a future version, it will default to False. In addition, specifying 'numeric_only=None' is deprecated. Select only valid columns or specify the value of numeric_only to silence this warning.\n",
      "  print(res.mean())\n",
      "/tmp/ipykernel_815009/2825003880.py:5: FutureWarning: The default value of numeric_only in DataFrameGroupBy.mean is deprecated. In a future version, numeric_only will default to False. Either specify numeric_only or select only columns which should be valid for the function.\n",
      "  print(res.groupby(\"finding_labels\").mean())\n",
      "/tmp/ipykernel_815009/2825003880.py:6: FutureWarning: The default value of numeric_only in DataFrame.mean is deprecated. In a future version, it will default to False. In addition, specifying 'numeric_only=None' is deprecated. Select only valid columns or specify the value of numeric_only to silence this warning.\n",
      "  print(res.mean())\n"
     ]
    }
   ],
   "source": [
    "for model in MODELS:\n",
    "    res = experiments[model][True][\"token\"]\n",
    "    res = res[res[\"word\"] == \"<EOS>\"]\n",
    "    print(model)\n",
    "    print(res.groupby(\"finding_labels\").mean())\n",
    "    print(res.mean())\n",
    "    print(\"=\"*50)"
   ],
   "metadata": {
    "collapsed": false
   }
  },
  {
   "cell_type": "code",
   "execution_count": 7,
   "outputs": [],
   "source": [
    "pgm = False\n",
    "out_string = \"\"\n",
    "#disease = \"Pneumothorax\"\n",
    "\n",
    "words = {}\n",
    "occ = {}\n",
    "cnr = {}\n",
    "\n",
    "\n",
    "for model in MODELS:\n",
    "    res = experiments[model][pgm][\"token\"]\n",
    "\n",
    "\n",
    "    words[model] = {}\n",
    "    occ[model] = {}\n",
    "    cnr[model] = {}\n",
    "\n",
    "    for disease in diseases:\n",
    "        mean_cnr_results =  {\"disease\":[], \"cnr\": [], \"word\": [], \"occ\": []}\n",
    "        res[\"cnr\"] = res[\"cnr\"].map(str_to_float)\n",
    "        sub_res = res[res[\"finding_labels\"] == disease]\n",
    "        word_count = sub_res[\"word\"].value_counts()#.count()#.sort_values(\"rel_path\", ascending=False)\n",
    "        for word in list(word_count[word_count > 25].index):\n",
    "            sub_res_word = sub_res[sub_res[\"word\"] == word]\n",
    "            mean_cnr_results[\"disease\"].append(disease)\n",
    "            mean_cnr_results[\"cnr\"].append(sub_res_word[\"cnr\"].mean())\n",
    "            mean_cnr_results[\"word\"].append(word)\n",
    "            mean_cnr_results[\"occ\"].append(len(sub_res_word))\n",
    "\n",
    "        mean_cnr_results = pd.DataFrame(mean_cnr_results)\n",
    "        mean_cnr_results = mean_cnr_results.sort_values([\"disease\", \"cnr\"], ascending=False)\n",
    "\n",
    "        words[model][disease] = list(mean_cnr_results[\"word\"][:3])\n",
    "        occ[model][disease] = list(mean_cnr_results[\"occ\"][:3])\n",
    "        cnr[model][disease] = list(mean_cnr_results[\"cnr\"][:3])\n",
    "\n",
    "\n",
    "i = 0\n",
    "payload_string = \"& {}  & {} & {:.2f} &&  {} & {}& {:.2f} && {} &  {}& {:.2f} \\\\\\ \\n \"\n",
    "\n",
    "disease_to_short = {\n",
    "     'Pneumonia':\"Pnem.\",\n",
    "     'Pneumothorax':\"Pnth.\",\n",
    "     'Edema':\"Edem.\",\n",
    "     'Cardiomegaly':\"Card.\",\n",
    "     'Atelectasis':\"Atel.\",\n",
    "     'Consolidation':\"Cons.\",\n",
    "     'Lung Opacity':\"L-Op.\",\n",
    "     'Pleural Effusion':\"Effu\",\n",
    "}\n",
    "\n",
    "for disease in diseases:\n",
    "    out_string += \"\\\\multirow{3}{*}{\" + disease_to_short[disease] + \"}\"\n",
    "    for i in range(3):\n",
    "        out_string += payload_string.format(\n",
    "                             words[\"sdv2\"][disease][i],        occ[\"sdv2\"][disease][i],cnr[\"sdv2\"][disease][i],\n",
    "                             words[\"learnable\"][disease][i],   occ[\"learnable\"][disease][i],cnr[\"learnable\"][disease][i],\n",
    "                             words[\"frozen\"][disease][i],      occ[\"frozen\"][disease][i],cnr[\"frozen\"][disease][i],\n",
    "                            )\n",
    "\n",
    "    out_string += \"\\\\midrule \\n\"\n",
    "\n",
    "out_string = out_string.replace(\"<\", \"\").replace(\">\", \"\")\n",
    "with open(os.path.join(config.log_dir, f\"pgm_{pgm}_table_tokens.txt\"), \"w\") as fp:\n",
    "    fp.write(out_string)\n"
   ],
   "metadata": {
    "collapsed": false
   }
  },
  {
   "cell_type": "markdown",
   "source": [
    "## See if we can find a correlation between number of occurences in training data and localization"
   ],
   "metadata": {
    "collapsed": false
   }
  },
  {
   "cell_type": "code",
   "execution_count": 39,
   "outputs": [
    {
     "name": "stdout",
     "output_type": "stream",
     "text": [
      "2023-06-22 18:58:06,617 | chest.py-meta_data-0257 | INFO | Loading image list from /vol/ideadata/ed52egek/data/mimic/jpg/physionet.org/files/mimic-cxr-jpg/2.0.0/mimic_metadata_preprocessed.csv\n"
     ]
    },
    {
     "name": "stderr",
     "output_type": "stream",
     "text": [
      "100%|██████████████████████████████████████████████████████████████████████████████████████████████████████████████████████████████████████████████████████████████| 186378/186378 [00:38<00:00, 4864.41it/s]\n"
     ]
    }
   ],
   "source": [
    "from tqdm import tqdm\n",
    "train_dataset = get_dataset(config, \"train\")\n",
    "occ = {}\n",
    "for disease in diseases:\n",
    "    occ[disease] = {}\n",
    "\n",
    "for i in tqdm(range(len(train_dataset.meta_data))):\n",
    "    if isinstance(train_dataset.meta_data.iloc[i][\"Finding Labels\"], float):\n",
    "        continue\n",
    "    findings = train_dataset.meta_data.iloc[i][\"Finding Labels\"].split(\"|\")\n",
    "    words = train_dataset.meta_data.iloc[i][\"impression\"].split(\" \")\n",
    "    for finding in findings:\n",
    "        if finding in diseases:\n",
    "            for word in words:\n",
    "                word = word.lower()\n",
    "                if occ[finding].get(word) is None:\n",
    "                    occ[finding][word] = 0\n",
    "                occ[finding][word] += 1\n"
   ],
   "metadata": {
    "collapsed": false
   }
  },
  {
   "cell_type": "code",
   "execution_count": 47,
   "outputs": [],
   "source": [
    "occ_perc = {k:{} for k in occ.keys()}\n",
    "for k in occ.keys():\n",
    "    for v in occ[k].keys():\n",
    "        s = 0\n",
    "        for d in occ.keys():\n",
    "            if occ[d].get(v) is None:\n",
    "                s += 0\n",
    "            else:\n",
    "                s += occ[d][v]\n",
    "\n",
    "        occ_perc[k][v] = occ[k][v] / s"
   ],
   "metadata": {
    "collapsed": false
   }
  },
  {
   "cell_type": "code",
   "execution_count": 48,
   "outputs": [],
   "source": [
    "results = {}\n",
    "for model in MODELS:\n",
    "    res = experiments[model][True][\"token\"]\n",
    "    mean_cnr_results =  {\"disease\":[], \"cnr\": [], \"word\": [], \"occ\": []}\n",
    "    for disease in diseases:\n",
    "        sub_res = res[res[\"finding_labels\"] == disease]\n",
    "        word_count = sub_res[\"word\"].value_counts()#.count()#.sort_values(\"rel_path\", ascending=False)\n",
    "        for word in list(word_count[word_count > 25].index):\n",
    "            sub_res_word = sub_res[sub_res[\"word\"] == word]\n",
    "            mean_cnr_results[\"disease\"].append(disease)\n",
    "            mean_cnr_results[\"cnr\"].append(sub_res_word[\"cnr\"].mean())\n",
    "            mean_cnr_results[\"word\"].append(word)\n",
    "            mean_cnr_results[\"occ\"].append(len(sub_res_word))\n",
    "\n",
    "    mean_cnr_results = pd.DataFrame(mean_cnr_results)\n",
    "    mean_cnr_results = mean_cnr_results.sort_values([\"disease\", \"cnr\"], ascending=False)\n",
    "    #mean_cnr_results.to_csv(os.path.join(config.log_dir, f\"{model_name}_morethan25_results.csv\"))\n",
    "    mean_cnr_results\n",
    "\n",
    "    x = []\n",
    "    x_train = []\n",
    "    for i in range(len(mean_cnr_results)):\n",
    "        disease = mean_cnr_results.iloc[i][\"disease\"]\n",
    "        word = mean_cnr_results.iloc[i][\"word\"]\n",
    "        #if word == \"<EOS>\" or word ==  \"<SOS>\" or word == \"\":\n",
    "        try:\n",
    "            x.append(occ[disease][word.lower()])\n",
    "            x_train.append(occ_perc[disease][word.lower()])\n",
    "        except KeyError:\n",
    "            x.append(-1)\n",
    "            x_train.append(-1)\n",
    "    mean_cnr_results[\"occ_train\"] = x\n",
    "    mean_cnr_results[\"occ_perc\"] = x_train\n",
    "    res = mean_cnr_results[mean_cnr_results[\"occ_train\"] != -1]\n",
    "    results[model] = res"
   ],
   "metadata": {
    "collapsed": false
   }
  },
  {
   "cell_type": "code",
   "execution_count": 56,
   "outputs": [
    {
     "data": {
      "text/plain": "<Figure size 480.315x296.851 with 1 Axes>",
      "image/png": "[encoded data removed]"
     },
     "metadata": {},
     "output_type": "display_data"
    }
   ],
   "source": [
    "\n",
    "fig, ax = plt.subplots(1, 1, figsize=set_size(\"MICCAI\"))\n",
    "\n",
    "c = [\"#1f77b5\", \"#ff7f11\", \"#2da02d\"]\n",
    "for i, model in enumerate(MODELS):\n",
    "\n",
    "        model_name_map = {\"sdv2\": \"SDv2\", \"frozen\": \"Finetune$_F$\", \"learnable\":\"Finetune$_L$\"}\n",
    "        #pgm_name_map = {True: \"MS-CXR\", False: \"Mimic\"}\n",
    "        label = model_name_map[model] #+ \" \" + pgm_name_map[pgm]\n",
    "        ax.scatter(results[model][\"occ_perc\"], results[model][\"cnr\"],label=label, color=c[i])\n",
    "\n",
    "#ax.set_ylim(-0.4, 0.83)\n",
    "#ax.set_xlim(0, 76)\n",
    "ax.set_xlabel('Percentage of training occurrences')\n",
    "ax.set_ylabel('CNR')\n",
    "#ax.hlines(0, 76, 0., linestyle=\"--\", color=\"black\")\n",
    "\n",
    "ax.legend()\n",
    "\n",
    "fig.savefig(os.path.join(config.log_dir, \"training_occ_vs_cnr.pdf\"), format='pdf', bbox_inches='tight')\n"
   ],
   "metadata": {
    "collapsed": false
   }
  },
  {
   "cell_type": "markdown",
   "source": [
    "# OI"
   ],
   "metadata": {
    "collapsed": false
   }
  },
  {
   "cell_type": "code",
   "execution_count": 21,
   "outputs": [
    {
     "name": "stdout",
     "output_type": "stream",
     "text": [
      "         disease       cnr          word  occ  occ_train\n",
      "20  Pneumothorax  0.954817         small   70       4064\n",
      "19  Pneumothorax  0.695520          left   85       8021\n",
      "17  Pneumothorax  0.687511        apical  119       3471\n",
      "15  Pneumothorax  0.685037         <EOS>  245         -1\n",
      "16  Pneumothorax  0.609379  pneumothorax  226       4536\n",
      "..           ...       ...           ...  ...        ...\n",
      "30  Cardiomegaly -0.295357            is  165      39925\n",
      "32  Cardiomegaly -0.303050       present   48        624\n",
      "36   Atelectasis  0.803713         <EOS>   61         -1\n",
      "35   Atelectasis -0.167359         <SOS>   61         -1\n",
      "37   Atelectasis -0.227442   atelectasis   50      15041\n",
      "\n",
      "[70 rows x 5 columns]\n"
     ]
    }
   ],
   "source": [
    "print(mean_cnr_results)"
   ],
   "metadata": {
    "collapsed": false
   }
  }
 ],
 "metadata": {
  "kernelspec": {
   "display_name": "Python 3",
   "language": "python",
   "name": "python3"
  },
  "language_info": {
   "codemirror_mode": {
    "name": "ipython",
    "version": 2
   },
   "file_extension": ".py",
   "mimetype": "text/x-python",
   "name": "python",
   "nbconvert_exporter": "python",
   "pygments_lexer": "ipython2",
   "version": "2.7.6"
  }
 },
 "nbformat": 4,
 "nbformat_minor": 0
}
