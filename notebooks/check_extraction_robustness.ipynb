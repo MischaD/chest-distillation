{
 "cells": [
  {
   "cell_type": "markdown",
   "source": [
    "## Check how high the variance is between runs with the same model but different seeds"
   ],
   "metadata": {
    "collapsed": false
   }
  },
  {
   "cell_type": "code",
   "execution_count": 37,
   "outputs": [
    {
     "data": {
      "text/plain": "        all  Atelectasis  Cardiomegaly  Consolidation     Edema  Lung Opacity  \\\n0  0.939925     1.305495      0.741324       1.288391  1.358247      1.061123   \n1  0.939501     1.305403      0.740675       1.290315  1.354936      1.061186   \n2  0.940095     1.303136      0.743188       1.291375  1.349943      1.057002   \n3  0.941619     1.304669      0.743174       1.295942  1.353353      1.061633   \n4  0.939982     1.302296      0.742167       1.292555  1.350300      1.058615   \n\n   Pleural Effusion  Pneumonia  Pneumothorax   model  \n0          1.087570   1.196407      0.584942  frozen  \n1          1.085699   1.194569      0.585616  frozen  \n2          1.090157   1.195258      0.585153  frozen  \n3          1.084849   1.200051      0.586166  frozen  \n4          1.083744   1.197360      0.585998  frozen  ",
      "text/html": "<div>\n<style scoped>\n    .dataframe tbody tr th:only-of-type {\n        vertical-align: middle;\n    }\n\n    .dataframe tbody tr th {\n        vertical-align: top;\n    }\n\n    .dataframe thead th {\n        text-align: right;\n    }\n</style>\n<table border=\"1\" class=\"dataframe\">\n  <thead>\n    <tr style=\"text-align: right;\">\n      <th></th>\n      <th>all</th>\n      <th>Atelectasis</th>\n      <th>Cardiomegaly</th>\n      <th>Consolidation</th>\n      <th>Edema</th>\n      <th>Lung Opacity</th>\n      <th>Pleural Effusion</th>\n      <th>Pneumonia</th>\n      <th>Pneumothorax</th>\n      <th>model</th>\n    </tr>\n  </thead>\n  <tbody>\n    <tr>\n      <th>0</th>\n      <td>0.939925</td>\n      <td>1.305495</td>\n      <td>0.741324</td>\n      <td>1.288391</td>\n      <td>1.358247</td>\n      <td>1.061123</td>\n      <td>1.087570</td>\n      <td>1.196407</td>\n      <td>0.584942</td>\n      <td>frozen</td>\n    </tr>\n    <tr>\n      <th>1</th>\n      <td>0.939501</td>\n      <td>1.305403</td>\n      <td>0.740675</td>\n      <td>1.290315</td>\n      <td>1.354936</td>\n      <td>1.061186</td>\n      <td>1.085699</td>\n      <td>1.194569</td>\n      <td>0.585616</td>\n      <td>frozen</td>\n    </tr>\n    <tr>\n      <th>2</th>\n      <td>0.940095</td>\n      <td>1.303136</td>\n      <td>0.743188</td>\n      <td>1.291375</td>\n      <td>1.349943</td>\n      <td>1.057002</td>\n      <td>1.090157</td>\n      <td>1.195258</td>\n      <td>0.585153</td>\n      <td>frozen</td>\n    </tr>\n    <tr>\n      <th>3</th>\n      <td>0.941619</td>\n      <td>1.304669</td>\n      <td>0.743174</td>\n      <td>1.295942</td>\n      <td>1.353353</td>\n      <td>1.061633</td>\n      <td>1.084849</td>\n      <td>1.200051</td>\n      <td>0.586166</td>\n      <td>frozen</td>\n    </tr>\n    <tr>\n      <th>4</th>\n      <td>0.939982</td>\n      <td>1.302296</td>\n      <td>0.742167</td>\n      <td>1.292555</td>\n      <td>1.350300</td>\n      <td>1.058615</td>\n      <td>1.083744</td>\n      <td>1.197360</td>\n      <td>0.585998</td>\n      <td>frozen</td>\n    </tr>\n  </tbody>\n</table>\n</div>"
     },
     "execution_count": 37,
     "metadata": {},
     "output_type": "execute_result"
    }
   ],
   "source": [
    "import os\n",
    "import pandas\n",
    "import json\n",
    "\n",
    "import pandas as pd\n",
    "\n",
    "MODELS = [\"frozen\", \"learnable\", \"sdv2\"]\n",
    "model = \"frozen\"\n",
    "base_path_frozen = f\"/vol/ideadata/ed52egek/pycharm/chest-distillation/log/statistical_stability_{model}\"\n",
    "paths = os.listdir(base_path_frozen)\n",
    "paths = paths[:5]\n",
    "\n",
    "\n",
    "df = {}\n",
    "for i in range(len(paths)):\n",
    "    file_path = os.path.join(base_path_frozen, paths[i], \"preliminary_masks\", \"pgm_True_bbox_results.json\")\n",
    "    with open(file_path) as file:\n",
    "        data = json.load(file)\n",
    "\n",
    "    if df == {}:\n",
    "        df = {k: [] for k in data.keys()}\n",
    "        df[\"model\"] = model\n",
    "\n",
    "    for category in data.keys():\n",
    "        df[category].append(data[category][\"cnr\"])\n",
    "\n",
    "df = pd.DataFrame(df)\n",
    "df\n",
    "\n",
    "\n"
   ],
   "metadata": {
    "collapsed": false
   }
  },
  {
   "cell_type": "code",
   "execution_count": 38,
   "outputs": [
    {
     "name": "stderr",
     "output_type": "stream",
     "text": [
      "/tmp/ipykernel_2725107/972437606.py:1: FutureWarning: The default value of numeric_only in DataFrame.mean is deprecated. In a future version, it will default to False. In addition, specifying 'numeric_only=None' is deprecated. Select only valid columns or specify the value of numeric_only to silence this warning.\n",
      "  df.mean()\n"
     ]
    },
    {
     "data": {
      "text/plain": "all                 0.940224\nAtelectasis         1.304200\nCardiomegaly        0.742106\nConsolidation       1.291716\nEdema               1.353356\nLung Opacity        1.059912\nPleural Effusion    1.086404\nPneumonia           1.196729\nPneumothorax        0.585575\ndtype: float64"
     },
     "execution_count": 38,
     "metadata": {},
     "output_type": "execute_result"
    }
   ],
   "source": [
    "df.mean()"
   ],
   "metadata": {
    "collapsed": false
   }
  },
  {
   "cell_type": "code",
   "execution_count": 39,
   "outputs": [
    {
     "name": "stderr",
     "output_type": "stream",
     "text": [
      "/tmp/ipykernel_2725107/3390915376.py:1: FutureWarning: The default value of numeric_only in DataFrame.std is deprecated. In a future version, it will default to False. In addition, specifying 'numeric_only=None' is deprecated. Select only valid columns or specify the value of numeric_only to silence this warning.\n",
      "  df.std()\n"
     ]
    },
    {
     "data": {
      "text/plain": "all                 0.000811\nAtelectasis         0.001423\nCardiomegaly        0.001115\nConsolidation       0.002815\nEdema               0.003442\nLung Opacity        0.002012\nPleural Effusion    0.002521\nPneumonia           0.002143\nPneumothorax        0.000527\ndtype: float64"
     },
     "execution_count": 39,
     "metadata": {},
     "output_type": "execute_result"
    }
   ],
   "source": [
    "df.std()"
   ],
   "metadata": {
    "collapsed": false
   }
  }
 ],
 "metadata": {
  "kernelspec": {
   "display_name": "Python 3",
   "language": "python",
   "name": "python3"
  },
  "language_info": {
   "codemirror_mode": {
    "name": "ipython",
    "version": 2
   },
   "file_extension": ".py",
   "mimetype": "text/x-python",
   "name": "python",
   "nbconvert_exporter": "python",
   "pygments_lexer": "ipython2",
   "version": "2.7.6"
  }
 },
 "nbformat": 4,
 "nbformat_minor": 0
}
