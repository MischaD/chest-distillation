{
 "cells": [
  {
   "cell_type": "code",
   "execution_count": 1,
   "outputs": [],
   "source": [
    "import pandas as pd\n",
    "import os\n",
    "import numpy as np\n"
   ],
   "metadata": {
    "collapsed": false
   }
  },
  {
   "cell_type": "code",
   "execution_count": 4,
   "metadata": {
    "collapsed": true
   },
   "outputs": [
    {
     "data": {
      "text/plain": "                         Unnamed: 0 Finding Label       iou      miou  \\\nrel_path                                                                \nimages/00000072_000.png           0   Atelectasis  0.009951  0.005961   \nimages/00000147_001.png           1   Atelectasis  0.018095  0.037832   \nimages/00000211_010.png           2   Atelectasis  0.016214  0.009099   \nimages/00000344_003.png           3      Effusion  0.021670  0.039719   \nimages/00000377_004.png           4  Cardiomegaly  0.216089  0.238110   \n...                             ...           ...       ...       ...   \nimages/00030434_000.png         524   Atelectasis  0.017263  0.013595   \nimages/00030606_006.png         525  Pneumothorax  0.036307  0.019166   \nimages/00030634_000.png         526      Effusion  0.029308  0.019678   \nimages/00030635_001.png         527   Atelectasis  0.051312  0.030796   \nimages/00030674_000.png         528   Atelectasis  0.050602  0.078512   \n\n                           distance  \nrel_path                             \nimages/00000072_000.png  165.140092  \nimages/00000147_001.png  216.322098  \nimages/00000211_010.png  105.005952  \nimages/00000344_003.png  346.897679  \nimages/00000377_004.png  154.477345  \n...                             ...  \nimages/00030434_000.png  320.440322  \nimages/00030606_006.png  381.532764  \nimages/00030634_000.png  416.132491  \nimages/00030635_001.png  197.773861  \nimages/00030674_000.png  289.142266  \n\n[529 rows x 5 columns]",
      "text/html": "<div>\n<style scoped>\n    .dataframe tbody tr th:only-of-type {\n        vertical-align: middle;\n    }\n\n    .dataframe tbody tr th {\n        vertical-align: top;\n    }\n\n    .dataframe thead th {\n        text-align: right;\n    }\n</style>\n<table border=\"1\" class=\"dataframe\">\n  <thead>\n    <tr style=\"text-align: right;\">\n      <th></th>\n      <th>Unnamed: 0</th>\n      <th>Finding Label</th>\n      <th>iou</th>\n      <th>miou</th>\n      <th>distance</th>\n    </tr>\n    <tr>\n      <th>rel_path</th>\n      <th></th>\n      <th></th>\n      <th></th>\n      <th></th>\n      <th></th>\n    </tr>\n  </thead>\n  <tbody>\n    <tr>\n      <th>images/00000072_000.png</th>\n      <td>0</td>\n      <td>Atelectasis</td>\n      <td>0.009951</td>\n      <td>0.005961</td>\n      <td>165.140092</td>\n    </tr>\n    <tr>\n      <th>images/00000147_001.png</th>\n      <td>1</td>\n      <td>Atelectasis</td>\n      <td>0.018095</td>\n      <td>0.037832</td>\n      <td>216.322098</td>\n    </tr>\n    <tr>\n      <th>images/00000211_010.png</th>\n      <td>2</td>\n      <td>Atelectasis</td>\n      <td>0.016214</td>\n      <td>0.009099</td>\n      <td>105.005952</td>\n    </tr>\n    <tr>\n      <th>images/00000344_003.png</th>\n      <td>3</td>\n      <td>Effusion</td>\n      <td>0.021670</td>\n      <td>0.039719</td>\n      <td>346.897679</td>\n    </tr>\n    <tr>\n      <th>images/00000377_004.png</th>\n      <td>4</td>\n      <td>Cardiomegaly</td>\n      <td>0.216089</td>\n      <td>0.238110</td>\n      <td>154.477345</td>\n    </tr>\n    <tr>\n      <th>...</th>\n      <td>...</td>\n      <td>...</td>\n      <td>...</td>\n      <td>...</td>\n      <td>...</td>\n    </tr>\n    <tr>\n      <th>images/00030434_000.png</th>\n      <td>524</td>\n      <td>Atelectasis</td>\n      <td>0.017263</td>\n      <td>0.013595</td>\n      <td>320.440322</td>\n    </tr>\n    <tr>\n      <th>images/00030606_006.png</th>\n      <td>525</td>\n      <td>Pneumothorax</td>\n      <td>0.036307</td>\n      <td>0.019166</td>\n      <td>381.532764</td>\n    </tr>\n    <tr>\n      <th>images/00030634_000.png</th>\n      <td>526</td>\n      <td>Effusion</td>\n      <td>0.029308</td>\n      <td>0.019678</td>\n      <td>416.132491</td>\n    </tr>\n    <tr>\n      <th>images/00030635_001.png</th>\n      <td>527</td>\n      <td>Atelectasis</td>\n      <td>0.051312</td>\n      <td>0.030796</td>\n      <td>197.773861</td>\n    </tr>\n    <tr>\n      <th>images/00030674_000.png</th>\n      <td>528</td>\n      <td>Atelectasis</td>\n      <td>0.050602</td>\n      <td>0.078512</td>\n      <td>289.142266</td>\n    </tr>\n  </tbody>\n</table>\n<p>529 rows × 5 columns</p>\n</div>"
     },
     "execution_count": 4,
     "metadata": {},
     "output_type": "execute_result"
    }
   ],
   "source": [
    "results = pd.read_csv(\"../relevant_logs/2023-01-20T13-48-10/results.csv\", index_col=\"rel_path\")\n",
    "\n",
    "results"
   ]
  },
  {
   "cell_type": "code",
   "execution_count": 12,
   "outputs": [
    {
     "data": {
      "text/plain": "Atelectasis     100\nEffusion         81\nCardiomegaly     78\nPneumothorax     63\nNodule           63\nMass             52\nPneumonia        50\nInfiltrate       42\nName: Finding Label, dtype: int64"
     },
     "execution_count": 12,
     "metadata": {},
     "output_type": "execute_result"
    }
   ],
   "source": [
    "counts = results[\"Finding Label\"].value_counts()\n",
    "counts"
   ],
   "metadata": {
    "collapsed": false
   }
  },
  {
   "cell_type": "code",
   "execution_count": 21,
   "outputs": [
    {
     "data": {
      "text/plain": "                    iou      miou    distance\nFinding Label                                \nAtelectasis    0.028788  0.050657  287.847568\nCardiomegaly   0.194566  0.154459  139.117415\nEffusion       0.056387  0.065315  362.113188\nInfiltrate     0.084529  0.082596  235.896116\nMass           0.046314  0.065031  251.995848\nNodule         0.005174  0.052409  285.965541\nPneumonia      0.074233  0.070078  232.607785\nPneumothorax   0.055169  0.066430  346.659563",
      "text/html": "<div>\n<style scoped>\n    .dataframe tbody tr th:only-of-type {\n        vertical-align: middle;\n    }\n\n    .dataframe tbody tr th {\n        vertical-align: top;\n    }\n\n    .dataframe thead th {\n        text-align: right;\n    }\n</style>\n<table border=\"1\" class=\"dataframe\">\n  <thead>\n    <tr style=\"text-align: right;\">\n      <th></th>\n      <th>iou</th>\n      <th>miou</th>\n      <th>distance</th>\n    </tr>\n    <tr>\n      <th>Finding Label</th>\n      <th></th>\n      <th></th>\n      <th></th>\n    </tr>\n  </thead>\n  <tbody>\n    <tr>\n      <th>Atelectasis</th>\n      <td>0.028788</td>\n      <td>0.050657</td>\n      <td>287.847568</td>\n    </tr>\n    <tr>\n      <th>Cardiomegaly</th>\n      <td>0.194566</td>\n      <td>0.154459</td>\n      <td>139.117415</td>\n    </tr>\n    <tr>\n      <th>Effusion</th>\n      <td>0.056387</td>\n      <td>0.065315</td>\n      <td>362.113188</td>\n    </tr>\n    <tr>\n      <th>Infiltrate</th>\n      <td>0.084529</td>\n      <td>0.082596</td>\n      <td>235.896116</td>\n    </tr>\n    <tr>\n      <th>Mass</th>\n      <td>0.046314</td>\n      <td>0.065031</td>\n      <td>251.995848</td>\n    </tr>\n    <tr>\n      <th>Nodule</th>\n      <td>0.005174</td>\n      <td>0.052409</td>\n      <td>285.965541</td>\n    </tr>\n    <tr>\n      <th>Pneumonia</th>\n      <td>0.074233</td>\n      <td>0.070078</td>\n      <td>232.607785</td>\n    </tr>\n    <tr>\n      <th>Pneumothorax</th>\n      <td>0.055169</td>\n      <td>0.066430</td>\n      <td>346.659563</td>\n    </tr>\n  </tbody>\n</table>\n</div>"
     },
     "execution_count": 21,
     "metadata": {},
     "output_type": "execute_result"
    }
   ],
   "source": [
    "mean_by_class = results.groupby([\"Finding Label\"]).mean().drop(columns=[\"Unnamed: 0\"])\n",
    "mean_by_class"
   ],
   "metadata": {
    "collapsed": false
   }
  },
  {
   "cell_type": "code",
   "execution_count": 22,
   "outputs": [
    {
     "data": {
      "text/plain": "iou           0.028788\nmiou          0.050657\ndistance    287.847568\nName: Atelectasis, dtype: float64"
     },
     "execution_count": 22,
     "metadata": {},
     "output_type": "execute_result"
    }
   ],
   "source": [
    "counts[\"Atelectasis\"]\n",
    "mean_by_class.loc[\"Atelectasis\"]\n"
   ],
   "metadata": {
    "collapsed": false
   }
  },
  {
   "cell_type": "code",
   "execution_count": 63,
   "outputs": [
    {
     "name": "stdout",
     "output_type": "stream",
     "text": [
      "Atelectasis & $2.9$ & $5.1$ & $288$ \\\\\n",
      "Effusion & $5.6$ & $6.5$ & $362$ \\\\\n",
      "Cardiomegaly & $19.5$ & $15.4$ & $139$ \\\\\n",
      "Pneumothorax & $5.5$ & $6.6$ & $347$ \\\\\n",
      "Nodule & $0.5$ & $5.2$ & $286$ \\\\\n",
      "Mass & $4.6$ & $6.5$ & $252$ \\\\\n",
      "Pneumonia & $7.4$ & $7.0$ & $233$ \\\\\n",
      "Infiltrate & $8.5$ & $8.3$ & $236$ \\\\\n"
     ]
    }
   ],
   "source": [
    "for index in counts.index:\n",
    "    print(f\"{index} & ${mean_by_class.loc[index]['iou']*100:.1f}$ &\"\n",
    "          f\" ${mean_by_class.loc[index]['miou']*100:.1f}$ &\"\n",
    "          f\" ${mean_by_class.loc[index]['distance']:03.0f}$ \\\\\\\\\")"
   ],
   "metadata": {
    "collapsed": false
   }
  },
  {
   "cell_type": "code",
   "execution_count": 68,
   "outputs": [
    {
     "name": "stderr",
     "output_type": "stream",
     "text": [
      "/tmp/ipykernel_563346/913362957.py:1: FutureWarning: Dropping of nuisance columns in DataFrame reductions (with 'numeric_only=None') is deprecated; in a future version this will raise TypeError.  Select only valid columns before calling the reduction.\n",
      "  mean_results = results.mean()\n"
     ]
    },
    {
     "data": {
      "text/plain": "Unnamed: 0    264.000000\niou             0.068231\nmiou            0.076078\ndistance      271.199008\ndtype: float64"
     },
     "execution_count": 68,
     "metadata": {},
     "output_type": "execute_result"
    }
   ],
   "source": [
    "mean_results = results.mean()\n",
    "mean_results"
   ],
   "metadata": {
    "collapsed": false
   }
  },
  {
   "cell_type": "code",
   "execution_count": 70,
   "outputs": [
    {
     "name": "stdout",
     "output_type": "stream",
     "text": [
      "Stable Diffusion v2 & $6.8$ & $7.6$ & $271$ \\\\\n"
     ]
    }
   ],
   "source": [
    "print(f\"{'Stable Diffusion v2'} & ${mean_results['iou']*100:.1f}$ &\"\n",
    "      f\" ${mean_results['miou']*100:.1f}$ &\"\n",
    "      f\" ${mean_results['distance']:03.0f}$ \\\\\\\\\")"
   ],
   "metadata": {
    "collapsed": false
   }
  }
 ],
 "metadata": {
  "kernelspec": {
   "display_name": "Python 3",
   "language": "python",
   "name": "python3"
  },
  "language_info": {
   "codemirror_mode": {
    "name": "ipython",
    "version": 2
   },
   "file_extension": ".py",
   "mimetype": "text/x-python",
   "name": "python",
   "nbconvert_exporter": "python",
   "pygments_lexer": "ipython2",
   "version": "2.7.6"
  }
 },
 "nbformat": 4,
 "nbformat_minor": 0
}
