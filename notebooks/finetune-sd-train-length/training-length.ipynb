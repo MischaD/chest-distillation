{
 "cells": [
  {
   "cell_type": "code",
   "execution_count": 1,
   "metadata": {
    "collapsed": true
   },
   "outputs": [],
   "source": [
    "import os, sys\n",
    "import pandas as pd\n",
    "\n",
    "os.chdir(\"../..\")\n",
    "\n",
    "study_keys = [\"10k\", \"20k\", \"30k\", \"40k\", \"50k\", \"60k\"]\n",
    "path_to_epoch={\n",
    "    study_keys[0]:\"notebooks/finetune-sd-train-length/resultsheets/10k.csv\",\n",
    "    study_keys[1]:\"notebooks/finetune-sd-train-length/resultsheets/20k.csv\",\n",
    "    study_keys[2]:\"notebooks/finetune-sd-train-length/resultsheets/30k.csv\",\n",
    "    study_keys[3]:\"notebooks/finetune-sd-train-length/resultsheets/40k.csv\",\n",
    "    study_keys[4]:\"notebooks/finetune-sd-train-length/resultsheets/50k.csv\",\n",
    "    study_keys[5]:\"notebooks/finetune-sd-train-length/resultsheets/60k.csv\",\n",
    "}\n",
    "dataframe_baseline = pd.read_csv(\"notebooks/finetune-sd-train-length/resultsheets/sdv2.csv\", index_col=\"finding_labels\")\n",
    "\n",
    "dataframes = {}\n",
    "for step_num in path_to_epoch.keys():\n",
    "    dataframes[step_num] = pd.read_csv(path_to_epoch[step_num], index_col=\"finding_labels\")\n",
    "\n"
   ]
  },
  {
   "cell_type": "code",
   "execution_count": 23,
   "outputs": [
    {
     "name": "stdout",
     "output_type": "stream",
     "text": [
      "Unnamed: 0    519.500000\n",
      "iou             0.198249\n",
      "miou            0.386569\n",
      "bboxiou         0.153940\n",
      "bboxmiou        0.158690\n",
      "distance      136.662009\n",
      "top1            0.422115\n",
      "aucroc          0.759224\n",
      "cnr             1.132201\n",
      "dtype: float64\n"
     ]
    },
    {
     "name": "stderr",
     "output_type": "stream",
     "text": [
      "/tmp/ipykernel_3177192/699785817.py:3: FutureWarning: The default value of numeric_only in DataFrame.mean is deprecated. In a future version, it will default to False. In addition, specifying 'numeric_only=None' is deprecated. Select only valid columns or specify the value of numeric_only to silence this warning.\n",
      "  print(full.mean())\n"
     ]
    },
    {
     "data": {
      "text/plain": "finding_labels\nAtelectasis         157.5\nCardiomegaly        101.7\nConsolidation       140.6\nEdema               134.8\nLung Opacity        156.7\nPleural Effusion    190.2\nPneumonia           141.3\nPneumothorax        168.7\nName: distance, dtype: object"
     },
     "execution_count": 23,
     "metadata": {},
     "output_type": "execute_result"
    }
   ],
   "source": [
    "key = \"distance\"\n",
    "full = pd.read_csv(\"notebooks/finetune-sd-train-length/resultsheets/60k_full.csv\", index_col=\"finding_labels\")\n",
    "print(full.mean())\n",
    "dataframes[\"60k\"][key].map(lambda x: f\"{x:.01f}\")\n",
    "\n",
    "\n",
    "\n"
   ],
   "metadata": {
    "collapsed": false
   }
  },
  {
   "cell_type": "code",
   "execution_count": 2,
   "outputs": [
    {
     "data": {
      "text/plain": "   steps       iou      miou   bboxiou  bboxmiou    distance      top1  \\\n0  10000  0.171334  0.365766  0.125193  0.118174  154.677900  0.677966   \n1  20000  0.179532  0.362993  0.129315  0.134151  153.525483  0.711864   \n2  30000  0.178080  0.369225  0.127854  0.129032  151.649790  0.677966   \n3  40000  0.174995  0.364706  0.128067  0.129872  148.652097  0.627119   \n4  50000  0.175678  0.365615  0.131122  0.145287  154.287506  0.644068   \n5  60000  0.174700  0.367643  0.131356  0.143678  157.538064  0.644068   \n\n     aucroc       cnr  \n0  0.805793  1.401419  \n1  0.827583  1.522648  \n2  0.811132  1.443224  \n3  0.808343  1.428712  \n4  0.802514  1.401663  \n5  0.802579  1.401433  ",
      "text/html": "<div>\n<style scoped>\n    .dataframe tbody tr th:only-of-type {\n        vertical-align: middle;\n    }\n\n    .dataframe tbody tr th {\n        vertical-align: top;\n    }\n\n    .dataframe thead th {\n        text-align: right;\n    }\n</style>\n<table border=\"1\" class=\"dataframe\">\n  <thead>\n    <tr style=\"text-align: right;\">\n      <th></th>\n      <th>steps</th>\n      <th>iou</th>\n      <th>miou</th>\n      <th>bboxiou</th>\n      <th>bboxmiou</th>\n      <th>distance</th>\n      <th>top1</th>\n      <th>aucroc</th>\n      <th>cnr</th>\n    </tr>\n  </thead>\n  <tbody>\n    <tr>\n      <th>0</th>\n      <td>10000</td>\n      <td>0.171334</td>\n      <td>0.365766</td>\n      <td>0.125193</td>\n      <td>0.118174</td>\n      <td>154.677900</td>\n      <td>0.677966</td>\n      <td>0.805793</td>\n      <td>1.401419</td>\n    </tr>\n    <tr>\n      <th>1</th>\n      <td>20000</td>\n      <td>0.179532</td>\n      <td>0.362993</td>\n      <td>0.129315</td>\n      <td>0.134151</td>\n      <td>153.525483</td>\n      <td>0.711864</td>\n      <td>0.827583</td>\n      <td>1.522648</td>\n    </tr>\n    <tr>\n      <th>2</th>\n      <td>30000</td>\n      <td>0.178080</td>\n      <td>0.369225</td>\n      <td>0.127854</td>\n      <td>0.129032</td>\n      <td>151.649790</td>\n      <td>0.677966</td>\n      <td>0.811132</td>\n      <td>1.443224</td>\n    </tr>\n    <tr>\n      <th>3</th>\n      <td>40000</td>\n      <td>0.174995</td>\n      <td>0.364706</td>\n      <td>0.128067</td>\n      <td>0.129872</td>\n      <td>148.652097</td>\n      <td>0.627119</td>\n      <td>0.808343</td>\n      <td>1.428712</td>\n    </tr>\n    <tr>\n      <th>4</th>\n      <td>50000</td>\n      <td>0.175678</td>\n      <td>0.365615</td>\n      <td>0.131122</td>\n      <td>0.145287</td>\n      <td>154.287506</td>\n      <td>0.644068</td>\n      <td>0.802514</td>\n      <td>1.401663</td>\n    </tr>\n    <tr>\n      <th>5</th>\n      <td>60000</td>\n      <td>0.174700</td>\n      <td>0.367643</td>\n      <td>0.131356</td>\n      <td>0.143678</td>\n      <td>157.538064</td>\n      <td>0.644068</td>\n      <td>0.802579</td>\n      <td>1.401433</td>\n    </tr>\n  </tbody>\n</table>\n</div>"
     },
     "execution_count": 2,
     "metadata": {},
     "output_type": "execute_result"
    }
   ],
   "source": [
    "import matplotlib.pyplot as plt\n",
    "import numpy as np\n",
    "font = {'family': 'serif',\n",
    "        'weight': 'normal',\n",
    "        'size': 16,\n",
    "        }\n",
    "\n",
    "x_label = np.arange(10000, (len(dataframes.keys())+1)*10000, 10000)\n",
    "label_key = \"Atelectasis\"\n",
    "viz_metric = \"bboxiou\"\n",
    "metrics = dataframes[study_keys[0]].keys()\n",
    "\n",
    "epoch_data_frame = {\"steps\": x_label,}\n",
    "for k in metrics:\n",
    "    epoch_data_frame[k] = []\n",
    "\n",
    "for study_key in study_keys:\n",
    "    results = dataframes[study_key].loc[label_key]\n",
    "    for metric in metrics:\n",
    "        epoch_data_frame[metric].append(results[metric])\n",
    "\n",
    "data = pd.DataFrame(epoch_data_frame)\n",
    "data"
   ],
   "metadata": {
    "collapsed": false
   }
  },
  {
   "cell_type": "code",
   "execution_count": 3,
   "outputs": [
    {
     "data": {
      "text/plain": "<Figure size 640x480 with 1 Axes>",
      "image/png": "[encoded data removed]"
     },
     "metadata": {},
     "output_type": "display_data"
    }
   ],
   "source": [
    "baseline = dataframe_baseline.loc[label_key][viz_metric]\n",
    "\n",
    "plt.grid(color='silver', linestyle='-', linewidth=.5)\n",
    "plt.plot(data[\"steps\"], data[viz_metric])\n",
    "plt.plot(data[\"steps\"], [baseline, ] * len(data[\"steps\"]), \"k--\")\n",
    "\n",
    "TO_FONT = {\"iou\":\"IoU\", \"miou\":\"mIoU\", \"bboxiou\":\"BBox IoU\", \"bboxmiou\":\"BBox mIoU\", \"distance\":\"Distance\", \"top1\":\"Top 1\", \"aucroc\":\"AUCROC\"}\n",
    "plt.ylabel(TO_FONT[viz_metric], fontdict=font)\n",
    "plt.xlabel('Steps', fontdict=font)\n",
    "\n",
    "plt.title(label_key)\n",
    "plt.savefig(f'{viz_metric}_{label_key}.pdf', dpi=300, bbox_inches='tight')\n"
   ],
   "metadata": {
    "collapsed": false
   }
  },
  {
   "cell_type": "markdown",
   "source": [
    "Full Results"
   ],
   "metadata": {
    "collapsed": false
   }
  },
  {
   "cell_type": "code",
   "execution_count": null,
   "outputs": [],
   "source": [
    "#viz_metric = \"iou\"\n",
    "TO_FONT = {\"iou\":\"IoU\", \"miou\":\"mIoU\", \"bboxiou\":\"BBox IoU\", \"bboxmiou\":\"BBox mIoU\", \"distance\":\"Distance\", \"top1\":\"Top 1\", \"aucroc\":\"AUCROC\"}\n",
    "path_to_full_epoch = {k:v.rstrip(\".csv\") + \"_full.csv\" for k,v in path_to_epoch.items()}\n",
    "full_dataframes = {}\n",
    "for step_num in path_to_epoch.keys():\n",
    "    full_dataframes[step_num] = pd.read_csv(path_to_full_epoch[step_num], index_col=\"finding_labels\")\n",
    "    full_dataframes[step_num] = full_dataframes[step_num].drop([\"Unnamed: 0\", \"rel_path\"], axis=1)\n",
    "\n",
    "\n",
    "df_baseline_full = pd.read_csv(\"notebooks/finetune-sd-train-length/resultsheets/sdv2_full.csv\", index_col=\"finding_labels\")\n",
    "\n",
    "for viz_metric in TO_FONT.keys():\n",
    "    baseline_full = df_baseline_full.mean()[viz_metric]\n",
    "\n",
    "    vals = []\n",
    "    for study_key in study_keys:\n",
    "        vals.append(full_dataframes[study_key].mean()[viz_metric])\n",
    "\n",
    "    plt.grid(color='silver', linestyle='-', linewidth=.5)\n",
    "    plt.plot(data[\"steps\"], vals)\n",
    "    plt.plot(data[\"steps\"], [baseline_full, ] * len(data[\"steps\"]), \"k--\")\n",
    "\n",
    "    plt.ylabel(TO_FONT[viz_metric], fontdict=font)\n",
    "    plt.xlabel('Steps', fontdict=font)\n",
    "\n",
    "    #plt.title()\n",
    "    plt.savefig(f'notebooks/finetune-sd-train-length/{viz_metric}_full_mean.pdf', dpi=300, bbox_inches='tight')\n",
    "    plt.show()\n",
    "\n",
    "\n"
   ],
   "metadata": {
    "collapsed": false
   }
  },
  {
   "cell_type": "markdown",
   "source": [],
   "metadata": {
    "collapsed": false
   }
  },
  {
   "cell_type": "code",
   "execution_count": 5,
   "outputs": [
    {
     "data": {
      "text/plain": "iou           0.144067\nmiou          0.309972\nbboxiou       0.133874\nbboxmiou      0.089868\ndistance    148.866810\ntop1          0.051008\naucroc        0.622846\ncnr           0.505540\ndtype: float64"
     },
     "execution_count": 5,
     "metadata": {},
     "output_type": "execute_result"
    }
   ],
   "source": [
    "df_baseline_full.mean()"
   ],
   "metadata": {
    "collapsed": false
   }
  },
  {
   "cell_type": "code",
   "execution_count": 24,
   "outputs": [
    {
     "name": "stderr",
     "output_type": "stream",
     "text": [
      "/tmp/ipykernel_3177192/1809158308.py:2: FutureWarning: The default value of numeric_only in DataFrame.mean is deprecated. In a future version, it will default to False. In addition, specifying 'numeric_only=None' is deprecated. Select only valid columns or specify the value of numeric_only to silence this warning.\n",
      "  df_baseline_full.mean()\n"
     ]
    },
    {
     "data": {
      "text/plain": "Unnamed: 0    519.500000\niou             0.139829\nmiou            0.299812\nbboxiou         0.137956\nbboxmiou        0.099382\ndistance      136.893688\ntop1            0.053846\naucroc          0.604079\ncnr             0.447058\ndtype: float64"
     },
     "execution_count": 24,
     "metadata": {},
     "output_type": "execute_result"
    }
   ],
   "source": [
    "df_baseline_full = pd.read_csv(\"notebooks/finetune-sd-train-length/resultsheets/sdv2_full.csv\", index_col=\"finding_labels\")\n",
    "df_baseline_full.mean()"
   ],
   "metadata": {
    "collapsed": false
   }
  },
  {
   "cell_type": "code",
   "execution_count": 29,
   "outputs": [
    {
     "data": {
      "text/plain": "finding_labels\nAtelectasis         148\nCardiomegaly         95\nConsolidation       142\nEdema               137\nLung Opacity        156\nPleural Effusion    190\nPneumonia           143\nPneumothorax        181\nName: distance, dtype: int64"
     },
     "execution_count": 29,
     "metadata": {},
     "output_type": "execute_result"
    }
   ],
   "source": [
    "df_baseline = pd.read_csv(\"notebooks/finetune-sd-train-length/resultsheets/sdv2.csv\", index_col=\"finding_labels\")\n",
    "df_baseline[\"distance\"].map(round)"
   ],
   "metadata": {
    "collapsed": false
   }
  },
  {
   "cell_type": "code",
   "execution_count": 16,
   "outputs": [
    {
     "name": "stderr",
     "output_type": "stream",
     "text": [
      "/tmp/ipykernel_3170713/4229643846.py:2: FutureWarning: The default value of numeric_only in DataFrame.mean is deprecated. In a future version, it will default to False. In addition, specifying 'numeric_only=None' is deprecated. Select only valid columns or specify the value of numeric_only to silence this warning.\n",
      "  df_baseline_full.mean()\n"
     ]
    },
    {
     "data": {
      "text/plain": "Unnamed: 0    519.500000\niou             0.139829\nmiou            0.299812\nbboxiou         0.137956\nbboxmiou        0.099382\ndistance      136.893688\ntop1            0.053846\naucroc          0.604079\ncnr             0.447058\ndtype: float64"
     },
     "execution_count": 16,
     "metadata": {},
     "output_type": "execute_result"
    }
   ],
   "source": [
    "df_baseline_full = pd.read_csv(\"notebooks/finetune-sd-train-length/resultsheets/sdv2_full.csv\", index_col=\"finding_labels\")\n",
    "df_baseline_full.mean()"
   ],
   "metadata": {
    "collapsed": false
   }
  }
 ],
 "metadata": {
  "kernelspec": {
   "display_name": "Python 3",
   "language": "python",
   "name": "python3"
  },
  "language_info": {
   "codemirror_mode": {
    "name": "ipython",
    "version": 2
   },
   "file_extension": ".py",
   "mimetype": "text/x-python",
   "name": "python",
   "nbconvert_exporter": "python",
   "pygments_lexer": "ipython2",
   "version": "2.7.6"
  }
 },
 "nbformat": 4,
 "nbformat_minor": 0
}
