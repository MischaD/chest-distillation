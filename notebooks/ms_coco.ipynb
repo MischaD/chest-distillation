{
 "cells": [
  {
   "cell_type": "markdown",
   "source": [
    "# MSCOCO download preprocessing\n",
    "\n",
    "Generates list of training images with captions that contain the model category"
   ],
   "metadata": {
    "collapsed": false
   }
  },
  {
   "cell_type": "code",
   "execution_count": 16,
   "outputs": [],
   "source": [
    "data_dir = \"/vol/ideadata/ed52egek/data/mscoco/\"\n",
    "split_name = \"val2017\"\n",
    "#split_name = \"train2017\"\n",
    "import os\n",
    "\n",
    "# List all images in train2017 folder\n",
    "images = os.listdir(os.path.join(data_dir,split_name))\n",
    "# load all images\n",
    "\n",
    "# check for all classes of the images if the object is in the center\n",
    "\n",
    "\n",
    "len(images)\n",
    "paths = [os.path.join(split_name,x) for x in images]\n",
    "annot = [os.path.join(\"annotations\",f\"stuff_{split_name}_pixelmaps\",x.replace(\"jpg\", \"png\")) for x in images]\n",
    "#limit = 10\n",
    "#paths = paths[:limit]\n",
    "#annot = annot[:limit]"
   ],
   "metadata": {
    "collapsed": false
   }
  },
  {
   "cell_type": "code",
   "execution_count": 17,
   "outputs": [],
   "source": [
    "import torchvision.transforms as transforms\n",
    "from PIL import Image\n",
    "import pandas as pd\n",
    "\n",
    "to_tensor = transforms.ToTensor()\n",
    "to_pil = transforms.ToPILImage()\n",
    "\n",
    "\n",
    "def center_crop(img):\n",
    "    _center_crop = transforms.CenterCrop(min(img.size()[-2:]))\n",
    "    return _center_crop(img)\n",
    "\n",
    "def load_img(path):\n",
    "    return to_tensor(Image.open(path))\n",
    "\n",
    "def viz(img):\n",
    "    to_pil(img).show()\n",
    "\n",
    "\n",
    "data = pd.DataFrame({\"path\": paths, \"segmentation_path\":annot})"
   ],
   "metadata": {
    "collapsed": false
   }
  },
  {
   "cell_type": "code",
   "execution_count": 18,
   "outputs": [
    {
     "data": {
      "text/plain": "dict_keys(['info', 'licenses', 'images', 'annotations'])"
     },
     "execution_count": 18,
     "metadata": {},
     "output_type": "execute_result"
    }
   ],
   "source": [
    "path_json = os.path.join(data_dir, \"annotations\", f\"captions_{split_name}.json\")\n",
    "import json\n",
    "\n",
    "# Open the JSON file\n",
    "with open(path_json, \"r\") as json_file:\n",
    "    # Load the contents of the JSON file\n",
    "    json_data = json.load(json_file)\n",
    "\n",
    "# Now you can work with the loaded JSON data\n",
    "# For example, you can access its elements like a dictionary\n",
    "json_data.keys()\n"
   ],
   "metadata": {
    "collapsed": false
   }
  },
  {
   "cell_type": "code",
   "execution_count": 19,
   "outputs": [],
   "source": [
    "imgs = {}\n",
    "for i in range(len(json_data[\"annotations\"])):\n",
    "    id = json_data[\"annotations\"][i][\"image_id\"]\n",
    "    caption = json_data[\"annotations\"][i][\"caption\"]\n",
    "\n",
    "    if imgs.get(id) is None:\n",
    "        imgs[id] = []\n",
    "    imgs[id].append(caption)\n",
    "\n",
    "captions_all = []\n",
    "for i in range(len(data)):\n",
    "    img_id = int(data.iloc[i][\"path\"].split(\"/\")[-1].rstrip(\".jpg\"))\n",
    "    captions = imgs[img_id]\n",
    "    captions = \"|\".join(captions)\n",
    "    captions_all.append(captions)\n",
    "\n",
    "data[\"captions\"] = captions_all\n",
    "data.to_csv(os.path.join(data_dir, split_name + \"_meta.csv\"))\n"
   ],
   "metadata": {
    "collapsed": false
   }
  },
  {
   "cell_type": "code",
   "execution_count": 20,
   "outputs": [
    {
     "name": "stdout",
     "output_type": "stream",
     "text": [
      "Num samples: 5000 - num samples after filtering captions: 4567\n"
     ]
    }
   ],
   "source": [
    "from src.datasets.mscoco import caption_contains_class_name\n",
    "captions_all = []\n",
    "for i in range(len(data)):\n",
    "    captions = data.iloc[i][\"captions\"].split(\"|\")\n",
    "    valid_captions = []\n",
    "    for caption in captions:\n",
    "        if caption_contains_class_name(caption):\n",
    "            valid_captions.append(caption)\n",
    "    captions = \"|\".join(valid_captions)\n",
    "    captions_all.append(captions)\n",
    "\n",
    "data[\"captions_filtered\"] = captions_all\n",
    "\n",
    "unfiltered_data = len(data)\n",
    "data = data[data[\"captions_filtered\"] != \"\"]\n",
    "print(f\"Num samples: {unfiltered_data} - num samples after filtering captions: {len(data)}\")\n"
   ],
   "metadata": {
    "collapsed": false
   }
  },
  {
   "cell_type": "markdown",
   "source": [
    "## Create own split for training and validation of ldm finetuning"
   ],
   "metadata": {
    "collapsed": false
   }
  },
  {
   "cell_type": "code",
   "execution_count": 21,
   "outputs": [],
   "source": [
    "from utils import DATASETSPLIT_TO_SPLIT, DatasetSplit\n",
    "\n",
    "if split_name == \"train2017\":\n",
    "    import numpy as np\n",
    "    np.random.seed(42)\n",
    "    split = []\n",
    "    for i in range(len(data)):\n",
    "        if np.random.rand() > 0.9:\n",
    "            split.append(DATASETSPLIT_TO_SPLIT[\"val\"])\n",
    "        else:\n",
    "            split.append(DATASETSPLIT_TO_SPLIT[\"train\"])\n",
    "\n",
    "    data[\"split\"] = split\n",
    "\n",
    "elif split_name == \"val2017\":\n",
    "    split = []\n",
    "    for i in range((len(data))):\n",
    "        split.append(DATASETSPLIT_TO_SPLIT[\"test\"])\n",
    "    data[\"split\"] = split\n",
    "\n"
   ],
   "metadata": {
    "collapsed": false
   }
  },
  {
   "cell_type": "code",
   "execution_count": 22,
   "outputs": [],
   "source": [
    "data.to_csv(os.path.join(data_dir, split_name + \"_meta.csv\"))"
   ],
   "metadata": {
    "collapsed": false
   }
  },
  {
   "cell_type": "code",
   "execution_count": 23,
   "outputs": [
    {
     "data": {
      "text/plain": "0"
     },
     "execution_count": 23,
     "metadata": {},
     "output_type": "execute_result"
    }
   ],
   "source": [
    "sum(split)"
   ],
   "metadata": {
    "collapsed": false
   }
  }
 ],
 "metadata": {
  "kernelspec": {
   "display_name": "Python 3",
   "language": "python",
   "name": "python3"
  },
  "language_info": {
   "codemirror_mode": {
    "name": "ipython",
    "version": 2
   },
   "file_extension": ".py",
   "mimetype": "text/x-python",
   "name": "python",
   "nbconvert_exporter": "python",
   "pygments_lexer": "ipython2",
   "version": "2.7.6"
  }
 },
 "nbformat": 4,
 "nbformat_minor": 0
}
