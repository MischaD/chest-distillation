{
 "cells": [
  {
   "cell_type": "code",
   "execution_count": 18,
   "metadata": {
    "collapsed": true
   },
   "outputs": [
    {
     "name": "stdout",
     "output_type": "stream",
     "text": [
      "2023-06-14 07:14:35,401 | utils.py-main_setup-0289 | INFO | Log dir: /vol/ideadata/ed52egek/pycharm/chest-distillation/log/confounder_notebook_learnable/2023-06-14T07-14-35\n",
      "2023-06-14 07:14:35,403 | log.py-log_experiment-0021 | INFO | Args: {'EXP_PATH': 'src/experiments/default_cfg.py', 'EXP_NAME': 'confounder_notebook_learnable'}\n",
      "2023-06-14 07:14:35,404 | log.py-log_experiment-0023 | INFO | Exp Path: src/experiments/default_cfg.py\n",
      "Saving to /vol/ideadata/ed52egek/pycharm/chest-distillation/log/confounder_notebook_learnable\n"
     ]
    }
   ],
   "source": [
    "import os\n",
    "import pandas as pd\n",
    "if os.path.basename(os.path.abspath(\".\")) == \"notebooks\":\n",
    "    os.chdir(\"..\")\n",
    "from utils import main_setup, AttributeDict\n",
    "from omegaconf import OmegaConf\n",
    "from torch import autocast\n",
    "from src.datasets import get_dataset\n",
    "from utils import load_model_from_config, collate_batch\n",
    "from src.visualization.utils import word_to_slice\n",
    "from torch.utils.data import DataLoader\n",
    "from tqdm import tqdm\n",
    "import torch\n",
    "from src.preliminary_masks import preprocess_attention_maps\n",
    "from src.visualization.utils import MIMIC_STRING_TO_ATTENTION\n",
    "import numpy as np\n",
    "import torchvision\n",
    "from src.foreground_masks import GMMMaskSuggestor\n",
    "from einops import repeat\n",
    "\n",
    "phrase_grounding_mode = False\n",
    "model_name = \"frozen\"\n",
    "\n",
    "args = AttributeDict(EXP_PATH=\"src/experiments/default_cfg.py\", EXP_NAME=\"confounder_notebook_learnable\")\n",
    "config = main_setup(args)\n",
    "config.datasets.test[\"phrase_grounding\"] = phrase_grounding_mode\n",
    "\n",
    "MODEL_MAP = {\"sdv2\":\"/vol/ideadata/ed52egek/diffusionmodels/latentdiffusion/512-base-ema.ckpt\",\n",
    "             \"frozen\":\"/vol/ideadata/ed52egek/diffusionmodels/chest/miccai_models/frozen_30k.ckpt\", \"learnable\":\"/vol/ideadata/ed52egek/diffusionmodels/chest/miccai_models/learnable_60k.ckpt\"}\n",
    "\n",
    "config.ckpt = MODEL_MAP[model_name]\n",
    "config.log_dir = os.path.dirname(config.log_dir)\n",
    "print(f\"Saving to {config.log_dir}\")"
   ]
  },
  {
   "cell_type": "code",
   "execution_count": 3,
   "outputs": [],
   "source": [
    "delattr(config.datasets.test, \"limit_dataset\")\n",
    "dataset = get_dataset(config, \"test\")\n",
    "model_config = OmegaConf.load(f\"{config.config_path}\")\n",
    "model_config[\"model\"][\"params\"][\"use_ema\"] = False\n",
    "model_config[\"model\"][\"params\"][\"unet_config\"][\"params\"][\"attention_save_mode\"] = \"cross\""
   ],
   "metadata": {
    "collapsed": false
   }
  },
  {
   "cell_type": "code",
   "execution_count": 4,
   "outputs": [
    {
     "name": "stdout",
     "output_type": "stream",
     "text": [
      "Loading model from /vol/ideadata/ed52egek/diffusionmodels/chest/miccai_models/learnable_60k.ckpt\n",
      "Global Step: 60000\n",
      "2023-06-14 05:55:21,719 | instantiator.py-<module>-0021 | INFO | Created a temporary directory at /tmp/tmpvhkhkuxd\n",
      "2023-06-14 05:55:21,723 | instantiator.py-_write-0076 | INFO | Writing /tmp/tmpvhkhkuxd/_remote_module_non_scriptable.py\n",
      "No module 'xformers'. Proceeding without it.\n",
      "LatentDiffusion: Running in eps-prediction mode\n",
      "DiffusionWrapper has 865.91 M params.\n",
      "2023-06-14 05:55:28,962 | ddpm.py-__init__-0143 | INFO | Unconditional guidance probability: 0.0\n",
      "making attention of type 'vanilla' with 512 in_channels\n",
      "Working with z of shape (1, 4, 32, 32) = 4096 dimensions.\n",
      "making attention of type 'vanilla' with 512 in_channels\n",
      "2023-06-14 05:55:30,178 | factory.py-create_model-0152 | INFO | Loaded ViT-H-14 model config.\n",
      "2023-06-14 05:55:38,102 | factory.py-create_model-0199 | INFO | Loading pretrained ViT-H-14 weights (laion2b_s32b_b79k).\n",
      "2023-06-14 05:55:53,070 | chest.py-load_precomputed-0162 | INFO | Using precomputed dataset with name: /vol/ideadata/ed52egek/data/mimic/jpg/physionet.org/files/mimic-cxr-jpg/2.0.0/10d6f749d36ca86d83cdd19bca06a7e9d52a08b5\n"
     ]
    }
   ],
   "source": [
    "model = load_model_from_config(model_config, f\"{config.ckpt}\")\n",
    "dataset.load_precomputed(model)"
   ],
   "metadata": {
    "collapsed": false
   }
  },
  {
   "cell_type": "code",
   "execution_count": 4,
   "outputs": [
    {
     "data": {
      "text/plain": "('Pneumonia', 'Bibasilar opacities|Bibasilar opacities')"
     },
     "execution_count": 4,
     "metadata": {},
     "output_type": "execute_result"
    }
   ],
   "source": [
    "dataset[0].keys()\n",
    "cond_key = \"label_text\"\n",
    "dataset[0][\"finding_labels\"], dataset[0][cond_key]"
   ],
   "metadata": {
    "collapsed": false
   }
  },
  {
   "cell_type": "code",
   "execution_count": 5,
   "outputs": [],
   "source": [
    "\n",
    "def samples_to_path(mask_dir, samples, j):\n",
    "    sample_path = samples[\"rel_path\"][j]\n",
    "    label = samples[\"finding_labels\"][j]\n",
    "    impr = samples[\"impression\"][j].replace(\" \", \"_\")\n",
    "    path = os.path.join(mask_dir, sample_path + label + impr) + \".pt\"\n",
    "    return path\n",
    "\n",
    "\n",
    "idx = 0\n",
    "precision_scope = autocast\n",
    "\n",
    "# visualization args\n",
    "rev_diff_steps = 40\n",
    "\n",
    "model = model.to(\"cuda\")\n",
    "mask_dir =  os.path.join(config.log_dir, \"precomputed_masks\")"
   ],
   "metadata": {
    "collapsed": false
   }
  },
  {
   "cell_type": "code",
   "execution_count": 6,
   "outputs": [],
   "source": [
    "def contrast_to_noise_ratio(ground_truth_img, prelim_mask_large):\n",
    "    gt_mask = ground_truth_img.flatten()\n",
    "    pr_mask = prelim_mask_large.flatten()\n",
    "\n",
    "    roi_values = pr_mask[gt_mask == 1.0]\n",
    "    not_roi_values = pr_mask[gt_mask != 1.0]\n",
    "\n",
    "    contrast = roi_values.mean() - not_roi_values.mean()\n",
    "    noise = torch.sqrt(\n",
    "        roi_values.var() + not_roi_values.var()\n",
    "    )\n",
    "    cnr = contrast / noise\n",
    "    return cnr"
   ],
   "metadata": {
    "collapsed": false
   }
  },
  {
   "cell_type": "code",
   "execution_count": 82,
   "outputs": [
    {
     "name": "stdout",
     "output_type": "stream",
     "text": [
      "Bibasilar opacities|Bibasilar opacities\n",
      "Data shape for DDIM sampling is (1, 4, 64, 64), eta 0.0\n",
      "Bilateral multifocal areas of consolidation|Bilateral multifocal areas of consolidation\n",
      "Data shape for DDIM sampling is (1, 4, 64, 64), eta 0.0\n",
      "Large right-sided pneumothorax\n",
      "Data shape for DDIM sampling is (1, 4, 64, 64), eta 0.0\n",
      "More dense consolidation at the right lung base raises possibility of superimposed infection\n",
      "Data shape for DDIM sampling is (1, 4, 64, 64), eta 0.0\n",
      "Large right pneumothorax\n",
      "Data shape for DDIM sampling is (1, 4, 64, 64), eta 0.0\n",
      "left basilar opacity\n",
      "Data shape for DDIM sampling is (1, 4, 64, 64), eta 0.0\n",
      "Persistent right middle and lower lobe opacities consistent with pneumonia\n",
      "Data shape for DDIM sampling is (1, 4, 64, 64), eta 0.0\n",
      "Small right pneumothorax\n",
      "Data shape for DDIM sampling is (1, 4, 64, 64), eta 0.0\n",
      "Left small-to-moderate apical pneumothorax\n",
      "Data shape for DDIM sampling is (1, 4, 64, 64), eta 0.0\n",
      "Small right apical pneumothorax\n",
      "Data shape for DDIM sampling is (1, 4, 64, 64), eta 0.0\n",
      "small volume of medial pneumothorax or pneumomediastinum\n",
      "Data shape for DDIM sampling is (1, 4, 64, 64), eta 0.0\n"
     ]
    }
   ],
   "source": [
    "\n",
    "resize_to_imag_size = torchvision.transforms.Resize(512)\n",
    "mask_suggestor = GMMMaskSuggestor(config)\n",
    "\n",
    "results = {\"rel_path\":[], \"word\":[], \"finding_labels\":[], \"cnr\":[]}\n",
    "results_positional = {\"rel_path\":[], \"position\":[], \"finding_labels\":[], \"cnr\":[]}\n",
    "\n",
    "with torch.no_grad():\n",
    "    with precision_scope(\"cuda\"):\n",
    "        with model.ema_scope():\n",
    "            for i, sample in enumerate(dataset):\n",
    "                print(sample[\"label_text\"])\n",
    "                label_text = [sample[\"label_text\"].split(\"|\")[0],]\n",
    "                sample[\"impression\"] = label_text\n",
    "                sample[\"label_text\"] = label_text\n",
    "                model.cond_stage_model = model.cond_stage_model.to(model.device)\n",
    "                images = model.log_images(sample, N=1, split=\"test\", sample=False, inpaint=True,\n",
    "                                               plot_progressive_rows=False, plot_diffusion_rows=False,\n",
    "                                               use_ema_scope=False, cond_key=cond_key, mask=1.,\n",
    "                                               save_attention=True)\n",
    "                attention_maps = images.pop(\"attention\")\n",
    "                attention_images = preprocess_attention_maps(attention_maps, on_cpu=False)\n",
    "                attention = attention_images[0]\n",
    "\n",
    "                bboxes = sample[\"bboxxywh\"].split(\"|\")\n",
    "                bbox_meta = dataset.bbox_meta_data.loc[sample[\"dicom_id\"]]\n",
    "                img_size = [bbox_meta[\"image_width\"], bbox_meta[\"image_height\"]]\n",
    "                for j in range(len(bboxes)):\n",
    "                    bbox = [int(box) for box in bboxes[j].split(\"-\")]\n",
    "                    bboxes[j] = bbox\n",
    "                ground_truth_img = sample[\"bbox_img\"].float()\n",
    "\n",
    "                token_lens = model.cond_stage_model.compute_word_len(label_text[0].split(\" \"))\n",
    "                token_positions = list(np.cumsum(token_lens) + 1)\n",
    "                token_positions = [1,] + token_positions\n",
    "                words = [\"<SOS>\",] + label_text[0].split(\" \") + [\"<EOS>\",]\n",
    "                attention = attention[-1 * rev_diff_steps:].mean(dim=(0,1))\n",
    "                for j, word in enumerate(words):\n",
    "                    if j == 0:\n",
    "                        attention_map = attention[0:1]\n",
    "                    elif j == (len(words) - 1):\n",
    "                        attention_map = attention[token_positions[-1]:token_positions[-1]+1]\n",
    "                    else:\n",
    "                        attention_map = attention[token_positions[j-1]:token_positions[j-1]+1]\n",
    "                    attention_map = attention_map.mean(dim=0)\n",
    "\n",
    "                    prelim_mask = (attention_map - attention_map.min())/(attention_map.max() - attention_map.min())\n",
    "\n",
    "                    prelim_mask_large = resize_to_imag_size(prelim_mask.unsqueeze(dim=0)).squeeze(dim=0)\n",
    "                    cnr = contrast_to_noise_ratio(ground_truth_img, prelim_mask_large)\n",
    "\n",
    "\n",
    "                    results[\"rel_path\"].append(sample[\"rel_path\"])\n",
    "                    results[\"word\"].append(word)\n",
    "                    results[\"finding_labels\"].append(sample[\"finding_labels\"])\n",
    "                    results[\"cnr\"].append(cnr.cpu())\n",
    "\n",
    "                for j in range(len(attention)):\n",
    "                    attention_map = attention[j]\n",
    "                    prelim_mask = (attention_map - attention_map.min())/(attention_map.max() - attention_map.min())\n",
    "\n",
    "                    prelim_mask_large = resize_to_imag_size(prelim_mask.unsqueeze(dim=0)).squeeze(dim=0)\n",
    "                    cnr = contrast_to_noise_ratio(ground_truth_img, prelim_mask_large)\n",
    "\n",
    "                    results_positional[\"rel_path\"].append(sample[\"rel_path\"])\n",
    "                    results_positional[\"position\"].append(j)\n",
    "                    results_positional[\"finding_labels\"].append(sample[\"finding_labels\"])\n",
    "                    results_positional[\"cnr\"].append(cnr.cpu())\n"
   ],
   "metadata": {
    "collapsed": false
   }
  },
  {
   "cell_type": "code",
   "execution_count": 21,
   "outputs": [
    {
     "ename": "NameError",
     "evalue": "name 'results' is not defined",
     "output_type": "error",
     "traceback": [
      "\u001B[0;31m---------------------------------------------------------------------------\u001B[0m",
      "\u001B[0;31mNameError\u001B[0m                                 Traceback (most recent call last)",
      "Cell \u001B[0;32mIn[21], line 1\u001B[0m\n\u001B[0;32m----> 1\u001B[0m res \u001B[38;5;241m=\u001B[39m pd\u001B[38;5;241m.\u001B[39mDataFrame(\u001B[43mresults\u001B[49m)\n\u001B[1;32m      2\u001B[0m res\u001B[38;5;241m.\u001B[39mto_csv(os\u001B[38;5;241m.\u001B[39mpath\u001B[38;5;241m.\u001B[39mjoin(config\u001B[38;5;241m.\u001B[39mlog_dir, \u001B[38;5;124mf\u001B[39m\u001B[38;5;124m\"\u001B[39m\u001B[38;5;132;01m{\u001B[39;00mmodel_name\u001B[38;5;132;01m}\u001B[39;00m\u001B[38;5;124m_results.csv\u001B[39m\u001B[38;5;124m\"\u001B[39m))\n\u001B[1;32m      3\u001B[0m res_positional \u001B[38;5;241m=\u001B[39m pd\u001B[38;5;241m.\u001B[39mDataFrame(results_positional)\n",
      "\u001B[0;31mNameError\u001B[0m: name 'results' is not defined"
     ]
    }
   ],
   "source": [
    "res = pd.DataFrame(results)\n",
    "res.to_csv(os.path.join(config.log_dir, f\"{model_name}_results.csv\"))\n",
    "res_positional = pd.DataFrame(results_positional)\n",
    "res_positional.to_csv(os.path.join(config.log_dir, f\"{model_name}_results_positional.csv\"))"
   ],
   "metadata": {
    "collapsed": false
   }
  },
  {
   "cell_type": "code",
   "execution_count": 22,
   "outputs": [],
   "source": [
    "import pandas as pd\n",
    "res = pd.read_csv(os.path.join(config.log_dir, f\"{model_name}_results.csv\"))"
   ],
   "metadata": {
    "collapsed": false
   }
  },
  {
   "cell_type": "markdown",
   "source": [
    "# Find highest mathing word in terms of localization for each disease but only for words appearning more than 25 times in our test data"
   ],
   "metadata": {
    "collapsed": false
   }
  },
  {
   "cell_type": "code",
   "execution_count": 25,
   "outputs": [
    {
     "data": {
      "text/plain": "         disease       cnr          word  occ\n19  Pneumothorax  0.697748         small   66\n16  Pneumothorax  0.653163        apical  115\n15  Pneumothorax  0.461793  pneumothorax  218\n14  Pneumothorax  0.428652         <EOS>  233\n17  Pneumothorax  0.282838         right  108\n..           ...       ...           ...  ...\n29  Cardiomegaly  0.007381            is  165\n24  Cardiomegaly -0.398970         <SOS>  333\n36   Atelectasis  1.117740   atelectasis   50\n35   Atelectasis  0.855789         <EOS>   61\n34   Atelectasis -0.854789         <SOS>   61\n\n[69 rows x 4 columns]",
      "text/html": "<div>\n<style scoped>\n    .dataframe tbody tr th:only-of-type {\n        vertical-align: middle;\n    }\n\n    .dataframe tbody tr th {\n        vertical-align: top;\n    }\n\n    .dataframe thead th {\n        text-align: right;\n    }\n</style>\n<table border=\"1\" class=\"dataframe\">\n  <thead>\n    <tr style=\"text-align: right;\">\n      <th></th>\n      <th>disease</th>\n      <th>cnr</th>\n      <th>word</th>\n      <th>occ</th>\n    </tr>\n  </thead>\n  <tbody>\n    <tr>\n      <th>19</th>\n      <td>Pneumothorax</td>\n      <td>0.697748</td>\n      <td>small</td>\n      <td>66</td>\n    </tr>\n    <tr>\n      <th>16</th>\n      <td>Pneumothorax</td>\n      <td>0.653163</td>\n      <td>apical</td>\n      <td>115</td>\n    </tr>\n    <tr>\n      <th>15</th>\n      <td>Pneumothorax</td>\n      <td>0.461793</td>\n      <td>pneumothorax</td>\n      <td>218</td>\n    </tr>\n    <tr>\n      <th>14</th>\n      <td>Pneumothorax</td>\n      <td>0.428652</td>\n      <td>&lt;EOS&gt;</td>\n      <td>233</td>\n    </tr>\n    <tr>\n      <th>17</th>\n      <td>Pneumothorax</td>\n      <td>0.282838</td>\n      <td>right</td>\n      <td>108</td>\n    </tr>\n    <tr>\n      <th>...</th>\n      <td>...</td>\n      <td>...</td>\n      <td>...</td>\n      <td>...</td>\n    </tr>\n    <tr>\n      <th>29</th>\n      <td>Cardiomegaly</td>\n      <td>0.007381</td>\n      <td>is</td>\n      <td>165</td>\n    </tr>\n    <tr>\n      <th>24</th>\n      <td>Cardiomegaly</td>\n      <td>-0.398970</td>\n      <td>&lt;SOS&gt;</td>\n      <td>333</td>\n    </tr>\n    <tr>\n      <th>36</th>\n      <td>Atelectasis</td>\n      <td>1.117740</td>\n      <td>atelectasis</td>\n      <td>50</td>\n    </tr>\n    <tr>\n      <th>35</th>\n      <td>Atelectasis</td>\n      <td>0.855789</td>\n      <td>&lt;EOS&gt;</td>\n      <td>61</td>\n    </tr>\n    <tr>\n      <th>34</th>\n      <td>Atelectasis</td>\n      <td>-0.854789</td>\n      <td>&lt;SOS&gt;</td>\n      <td>61</td>\n    </tr>\n  </tbody>\n</table>\n<p>69 rows × 4 columns</p>\n</div>"
     },
     "execution_count": 25,
     "metadata": {},
     "output_type": "execute_result"
    }
   ],
   "source": [
    "diseases = res[\"finding_labels\"].unique()\n",
    "#diseases = [\"Pneumonia\",]\n",
    "def str_to_float(x):\n",
    "    # tensor(-1.330) --> -1.330\n",
    "    if isinstance(x, float) :\n",
    "        return x\n",
    "    x = x.lstrip(\"tensor(\")\n",
    "    x = x.rstrip(\")\")\n",
    "    return float(x)\n",
    "\n",
    "mean_cnr_results =  {\"disease\":[], \"cnr\": [], \"word\": [], \"occ\": []}\n",
    "res[\"cnr\"] = res[\"cnr\"].map(str_to_float)\n",
    "for disease in diseases:\n",
    "    sub_res = res[res[\"finding_labels\"] == disease]\n",
    "    word_count = sub_res[\"word\"].value_counts()#.count()#.sort_values(\"rel_path\", ascending=False)\n",
    "    for word in list(word_count[word_count > 25].index):\n",
    "        sub_res_word = sub_res[sub_res[\"word\"] == word]\n",
    "        mean_cnr_results[\"disease\"].append(disease)\n",
    "        mean_cnr_results[\"cnr\"].append(sub_res_word[\"cnr\"].mean())\n",
    "        mean_cnr_results[\"word\"].append(word)\n",
    "        mean_cnr_results[\"occ\"].append(len(sub_res_word))\n",
    "\n",
    "\n",
    "mean_cnr_results = pd.DataFrame(mean_cnr_results)\n",
    "mean_cnr_results = mean_cnr_results.sort_values([\"disease\", \"cnr\"], ascending=False)\n",
    "mean_cnr_results.to_csv(os.path.join(config.log_dir, f\"{model_name}_morethan25_results.csv\"))\n",
    "mean_cnr_results"
   ],
   "metadata": {
    "collapsed": false
   }
  },
  {
   "cell_type": "code",
   "execution_count": 24,
   "outputs": [
    {
     "data": {
      "text/plain": "      Unnamed: 0                                           rel_path  \\\n0              0  files/p10/p10233088/s54276838/675d792f-a3521e4...   \n1              1  files/p10/p10233088/s54276838/675d792f-a3521e4...   \n2              2  files/p10/p10233088/s54276838/675d792f-a3521e4...   \n3              3  files/p10/p10233088/s54276838/675d792f-a3521e4...   \n4              4  files/p10/p10123147/s50230934/5318d353-daae9c3...   \n...          ...                                                ...   \n8678        8678  files/p13/p13859188/s52811469/0677ec27-6132843...   \n8679        8679  files/p13/p13859188/s52811469/0677ec27-6132843...   \n8680        8680  files/p13/p13859188/s52811469/0677ec27-6132843...   \n8681        8681  files/p13/p13859188/s52811469/0677ec27-6132843...   \n8682        8682  files/p13/p13859188/s52811469/0677ec27-6132843...   \n\n           word    finding_labels     cnr  \n0         <SOS>         Pneumonia -0.9801  \n1     Bibasilar         Pneumonia  0.5942  \n2     opacities         Pneumonia  1.1392  \n3         <EOS>         Pneumonia  1.4480  \n4         <SOS>         Pneumonia -0.8740  \n...         ...               ...     ...  \n8678    pleural  Pleural Effusion  1.1051  \n8679  effusions  Pleural Effusion  0.5952  \n8680        are  Pleural Effusion -0.0784  \n8681   presumed  Pleural Effusion  0.3457  \n8682      <EOS>  Pleural Effusion  0.1461  \n\n[8683 rows x 5 columns]",
      "text/html": "<div>\n<style scoped>\n    .dataframe tbody tr th:only-of-type {\n        vertical-align: middle;\n    }\n\n    .dataframe tbody tr th {\n        vertical-align: top;\n    }\n\n    .dataframe thead th {\n        text-align: right;\n    }\n</style>\n<table border=\"1\" class=\"dataframe\">\n  <thead>\n    <tr style=\"text-align: right;\">\n      <th></th>\n      <th>Unnamed: 0</th>\n      <th>rel_path</th>\n      <th>word</th>\n      <th>finding_labels</th>\n      <th>cnr</th>\n    </tr>\n  </thead>\n  <tbody>\n    <tr>\n      <th>0</th>\n      <td>0</td>\n      <td>files/p10/p10233088/s54276838/675d792f-a3521e4...</td>\n      <td>&lt;SOS&gt;</td>\n      <td>Pneumonia</td>\n      <td>-0.9801</td>\n    </tr>\n    <tr>\n      <th>1</th>\n      <td>1</td>\n      <td>files/p10/p10233088/s54276838/675d792f-a3521e4...</td>\n      <td>Bibasilar</td>\n      <td>Pneumonia</td>\n      <td>0.5942</td>\n    </tr>\n    <tr>\n      <th>2</th>\n      <td>2</td>\n      <td>files/p10/p10233088/s54276838/675d792f-a3521e4...</td>\n      <td>opacities</td>\n      <td>Pneumonia</td>\n      <td>1.1392</td>\n    </tr>\n    <tr>\n      <th>3</th>\n      <td>3</td>\n      <td>files/p10/p10233088/s54276838/675d792f-a3521e4...</td>\n      <td>&lt;EOS&gt;</td>\n      <td>Pneumonia</td>\n      <td>1.4480</td>\n    </tr>\n    <tr>\n      <th>4</th>\n      <td>4</td>\n      <td>files/p10/p10123147/s50230934/5318d353-daae9c3...</td>\n      <td>&lt;SOS&gt;</td>\n      <td>Pneumonia</td>\n      <td>-0.8740</td>\n    </tr>\n    <tr>\n      <th>...</th>\n      <td>...</td>\n      <td>...</td>\n      <td>...</td>\n      <td>...</td>\n      <td>...</td>\n    </tr>\n    <tr>\n      <th>8678</th>\n      <td>8678</td>\n      <td>files/p13/p13859188/s52811469/0677ec27-6132843...</td>\n      <td>pleural</td>\n      <td>Pleural Effusion</td>\n      <td>1.1051</td>\n    </tr>\n    <tr>\n      <th>8679</th>\n      <td>8679</td>\n      <td>files/p13/p13859188/s52811469/0677ec27-6132843...</td>\n      <td>effusions</td>\n      <td>Pleural Effusion</td>\n      <td>0.5952</td>\n    </tr>\n    <tr>\n      <th>8680</th>\n      <td>8680</td>\n      <td>files/p13/p13859188/s52811469/0677ec27-6132843...</td>\n      <td>are</td>\n      <td>Pleural Effusion</td>\n      <td>-0.0784</td>\n    </tr>\n    <tr>\n      <th>8681</th>\n      <td>8681</td>\n      <td>files/p13/p13859188/s52811469/0677ec27-6132843...</td>\n      <td>presumed</td>\n      <td>Pleural Effusion</td>\n      <td>0.3457</td>\n    </tr>\n    <tr>\n      <th>8682</th>\n      <td>8682</td>\n      <td>files/p13/p13859188/s52811469/0677ec27-6132843...</td>\n      <td>&lt;EOS&gt;</td>\n      <td>Pleural Effusion</td>\n      <td>0.1461</td>\n    </tr>\n  </tbody>\n</table>\n<p>8683 rows × 5 columns</p>\n</div>"
     },
     "execution_count": 24,
     "metadata": {},
     "output_type": "execute_result"
    }
   ],
   "source": [
    "\n",
    "res"
   ],
   "metadata": {
    "collapsed": false
   }
  },
  {
   "cell_type": "markdown",
   "source": [
    "## CNR of Top 10 words by occurrence"
   ],
   "metadata": {
    "collapsed": false
   }
  },
  {
   "cell_type": "code",
   "execution_count": 26,
   "outputs": [
    {
     "data": {
      "text/plain": "             disease       cnr       word  occ\n0          Pneumonia -0.879866      <SOS>  165\n1          Pneumonia  0.993722      <EOS>  165\n2          Pneumonia -0.035232        the   76\n3          Pneumonia  0.998477      right   53\n4          Pneumonia  1.195247  pneumonia   53\n..               ...       ...        ...  ...\n75  Pleural Effusion  0.467270      right   37\n76  Pleural Effusion  0.580746  effusions   35\n77  Pleural Effusion  0.832277       left   31\n78  Pleural Effusion -0.097977         is   26\n79  Pleural Effusion  0.611940  bilateral   25\n\n[80 rows x 4 columns]",
      "text/html": "<div>\n<style scoped>\n    .dataframe tbody tr th:only-of-type {\n        vertical-align: middle;\n    }\n\n    .dataframe tbody tr th {\n        vertical-align: top;\n    }\n\n    .dataframe thead th {\n        text-align: right;\n    }\n</style>\n<table border=\"1\" class=\"dataframe\">\n  <thead>\n    <tr style=\"text-align: right;\">\n      <th></th>\n      <th>disease</th>\n      <th>cnr</th>\n      <th>word</th>\n      <th>occ</th>\n    </tr>\n  </thead>\n  <tbody>\n    <tr>\n      <th>0</th>\n      <td>Pneumonia</td>\n      <td>-0.879866</td>\n      <td>&lt;SOS&gt;</td>\n      <td>165</td>\n    </tr>\n    <tr>\n      <th>1</th>\n      <td>Pneumonia</td>\n      <td>0.993722</td>\n      <td>&lt;EOS&gt;</td>\n      <td>165</td>\n    </tr>\n    <tr>\n      <th>2</th>\n      <td>Pneumonia</td>\n      <td>-0.035232</td>\n      <td>the</td>\n      <td>76</td>\n    </tr>\n    <tr>\n      <th>3</th>\n      <td>Pneumonia</td>\n      <td>0.998477</td>\n      <td>right</td>\n      <td>53</td>\n    </tr>\n    <tr>\n      <th>4</th>\n      <td>Pneumonia</td>\n      <td>1.195247</td>\n      <td>pneumonia</td>\n      <td>53</td>\n    </tr>\n    <tr>\n      <th>...</th>\n      <td>...</td>\n      <td>...</td>\n      <td>...</td>\n      <td>...</td>\n    </tr>\n    <tr>\n      <th>75</th>\n      <td>Pleural Effusion</td>\n      <td>0.467270</td>\n      <td>right</td>\n      <td>37</td>\n    </tr>\n    <tr>\n      <th>76</th>\n      <td>Pleural Effusion</td>\n      <td>0.580746</td>\n      <td>effusions</td>\n      <td>35</td>\n    </tr>\n    <tr>\n      <th>77</th>\n      <td>Pleural Effusion</td>\n      <td>0.832277</td>\n      <td>left</td>\n      <td>31</td>\n    </tr>\n    <tr>\n      <th>78</th>\n      <td>Pleural Effusion</td>\n      <td>-0.097977</td>\n      <td>is</td>\n      <td>26</td>\n    </tr>\n    <tr>\n      <th>79</th>\n      <td>Pleural Effusion</td>\n      <td>0.611940</td>\n      <td>bilateral</td>\n      <td>25</td>\n    </tr>\n  </tbody>\n</table>\n<p>80 rows × 4 columns</p>\n</div>"
     },
     "execution_count": 26,
     "metadata": {},
     "output_type": "execute_result"
    }
   ],
   "source": [
    "\n",
    "mean_cnr_results_top10 =  {\"disease\":[], \"cnr\": [], \"word\": [], \"occ\":[]}\n",
    "for disease in diseases:\n",
    "    sub_res = res[res[\"finding_labels\"] == disease]\n",
    "    word_count = sub_res[\"word\"].value_counts()#.count()#.sort_values(\"rel_path\", ascending=False)\n",
    "    for word in list(word_count.index)[:10]:\n",
    "        sub_res_word = sub_res[sub_res[\"word\"] == word]\n",
    "        mean_cnr_results_top10[\"disease\"].append(disease)\n",
    "        mean_cnr_results_top10[\"cnr\"].append(sub_res_word[\"cnr\"].mean())\n",
    "        mean_cnr_results_top10[\"word\"].append(word)\n",
    "        mean_cnr_results_top10[\"occ\"].append(len(sub_res_word))\n",
    "\n",
    "mean_cnr_results_top10 = pd.DataFrame(mean_cnr_results_top10)\n",
    "#mean_cnr_results_top10 = mean_cnr_results_top10.sort_values([\"disease\", \"cnr\"], ascending=False)\n",
    "mean_cnr_results_top10.to_csv(os.path.join(config.log_dir, f\"{model_name}_top10.csv\"))\n",
    "mean_cnr_results_top10\n"
   ],
   "metadata": {
    "collapsed": false
   }
  },
  {
   "cell_type": "code",
   "execution_count": 93,
   "outputs": [
    {
     "data": {
      "text/plain": "         disease       cnr  pos  occ\n83  Pneumothorax  0.680958    6    6\n79  Pneumothorax  0.664789    2    6\n82  Pneumothorax  0.598770    5    6\n84  Pneumothorax  0.570508    7    6\n80  Pneumothorax  0.433629    3    6\n..           ...       ...  ...  ...\n33     Pneumonia -0.334377   33    5\n31     Pneumonia -0.336890   31    5\n30     Pneumonia -0.337185   30    5\n16     Pneumonia -0.365959   16    5\n76     Pneumonia -0.416768   76    5\n\n[154 rows x 4 columns]",
      "text/html": "<div>\n<style scoped>\n    .dataframe tbody tr th:only-of-type {\n        vertical-align: middle;\n    }\n\n    .dataframe tbody tr th {\n        vertical-align: top;\n    }\n\n    .dataframe thead th {\n        text-align: right;\n    }\n</style>\n<table border=\"1\" class=\"dataframe\">\n  <thead>\n    <tr style=\"text-align: right;\">\n      <th></th>\n      <th>disease</th>\n      <th>cnr</th>\n      <th>pos</th>\n      <th>occ</th>\n    </tr>\n  </thead>\n  <tbody>\n    <tr>\n      <th>83</th>\n      <td>Pneumothorax</td>\n      <td>0.680958</td>\n      <td>6</td>\n      <td>6</td>\n    </tr>\n    <tr>\n      <th>79</th>\n      <td>Pneumothorax</td>\n      <td>0.664789</td>\n      <td>2</td>\n      <td>6</td>\n    </tr>\n    <tr>\n      <th>82</th>\n      <td>Pneumothorax</td>\n      <td>0.598770</td>\n      <td>5</td>\n      <td>6</td>\n    </tr>\n    <tr>\n      <th>84</th>\n      <td>Pneumothorax</td>\n      <td>0.570508</td>\n      <td>7</td>\n      <td>6</td>\n    </tr>\n    <tr>\n      <th>80</th>\n      <td>Pneumothorax</td>\n      <td>0.433629</td>\n      <td>3</td>\n      <td>6</td>\n    </tr>\n    <tr>\n      <th>...</th>\n      <td>...</td>\n      <td>...</td>\n      <td>...</td>\n      <td>...</td>\n    </tr>\n    <tr>\n      <th>33</th>\n      <td>Pneumonia</td>\n      <td>-0.334377</td>\n      <td>33</td>\n      <td>5</td>\n    </tr>\n    <tr>\n      <th>31</th>\n      <td>Pneumonia</td>\n      <td>-0.336890</td>\n      <td>31</td>\n      <td>5</td>\n    </tr>\n    <tr>\n      <th>30</th>\n      <td>Pneumonia</td>\n      <td>-0.337185</td>\n      <td>30</td>\n      <td>5</td>\n    </tr>\n    <tr>\n      <th>16</th>\n      <td>Pneumonia</td>\n      <td>-0.365959</td>\n      <td>16</td>\n      <td>5</td>\n    </tr>\n    <tr>\n      <th>76</th>\n      <td>Pneumonia</td>\n      <td>-0.416768</td>\n      <td>76</td>\n      <td>5</td>\n    </tr>\n  </tbody>\n</table>\n<p>154 rows × 4 columns</p>\n</div>"
     },
     "execution_count": 93,
     "metadata": {},
     "output_type": "execute_result"
    }
   ],
   "source": [
    "results_positional = pd.DataFrame(results_positional)\n",
    "diseases = results_positional[\"finding_labels\"].unique()\n",
    "#diseases = [\"Pneumonia\",]\n",
    "\n",
    "mean_cnr_results_positional =  {\"disease\":[], \"cnr\": [], \"pos\": [], \"occ\": []}\n",
    "results_positional[\"cnr\"] = results_positional[\"cnr\"].map(str_to_float)\n",
    "for disease in diseases:\n",
    "    sub_res = results_positional[results_positional[\"finding_labels\"] == disease]\n",
    "    for i in range(77):\n",
    "        sub_res_word = sub_res[sub_res[\"position\"] == i]\n",
    "        mean_cnr_results_positional[\"disease\"].append(disease)\n",
    "        mean_cnr_results_positional[\"cnr\"].append(sub_res_word[\"cnr\"].mean())\n",
    "        mean_cnr_results_positional[\"pos\"].append(i)\n",
    "        mean_cnr_results_positional[\"occ\"].append(len(sub_res_word))\n",
    "\n",
    "\n",
    "mean_cnr_results_positional = pd.DataFrame(mean_cnr_results_positional)\n",
    "mean_cnr_results_positional = mean_cnr_results_positional.sort_values([\"disease\", \"cnr\"], ascending=False)\n",
    "mean_cnr_results_positional.to_csv(os.path.join(config.log_dir, f\"{model_name}_positional.csv\"))\n",
    "mean_cnr_results_positional"
   ],
   "metadata": {
    "collapsed": false
   }
  },
  {
   "cell_type": "code",
   "execution_count": 80,
   "outputs": [
    {
     "data": {
      "text/plain": "                                          dicom_id     category_name  \\\n0     675d792f-a3521e48-5eec8573-1e81d644-e60c34f8         Pneumonia   \n1     5318d353-daae9c3d-2ee8648e-32b65198-aeff801e         Pneumonia   \n2     4decce85-c6ede74e-7a8bc81c-e81edee9-5ec17116      Pneumothorax   \n3     08c206fa-15bc2f42-f8918f67-9efc66b9-c01f6feb         Pneumonia   \n4     00258b8f-48b301d2-0cdf26b5-240d3e63-5a92e789      Pneumothorax   \n...                                            ...               ...   \n1128  01c47909-29055dd7-7ccfb97f-a38194de-11a8c26d  Pleural Effusion   \n1129  adb67a2b-a1473b01-b1004ae8-e612d0c9-1c2b5e3b  Pleural Effusion   \n1130  18e1246d-a9c790ca-6b40ea18-81b9ccc8-3469c113  Pleural Effusion   \n1131  f7e3f8a3-7299389e-84a7eb76-0cb81c79-06875895  Pleural Effusion   \n1132  0677ec27-61328435-0dfee3b9-356bfc03-8cbd3353  Pleural Effusion   \n\n                                             label_text  \\\n0               Bibasilar opacities|Bibasilar opacities   \n1     Bilateral multifocal areas of consolidation|Bi...   \n2                        Large right-sided pneumothorax   \n3     More dense consolidation at the right lung bas...   \n4                              Large right pneumothorax   \n...                                                 ...   \n1128  Small pleural effusions are present bilaterall...   \n1129  There is bilateral lower lobe volume loss and ...   \n1130  Small bilateral pleural effusions|Small bilate...   \n1131  Persistent moderate-to-large bilateral pleural...   \n1132  Small bilateral pleural effusions are presumed...   \n\n                                                  paths  image_width  \\\n0     files/p10/p10233088/s54276838/675d792f-a3521e4...         1767   \n1     files/p10/p10123147/s50230934/5318d353-daae9c3...         2539   \n2     files/p10/p10500801/s58577720/4decce85-c6ede74...         3056   \n3     files/p10/p10388470/s51417242/08c206fa-15bc2f4...         3056   \n4     files/p10/p10176514/s56875184/00258b8f-48b301d...         1630   \n...                                                 ...          ...   \n1128  files/p12/p12133670/s51759637/01c47909-29055dd...         3050   \n1129  files/p18/p18208545/s51034438/adb67a2b-a1473b0...         2544   \n1130  files/p15/p15445857/s50967054/18e1246d-a9c790c...         1950   \n1131  files/p12/p12668169/s54438962/f7e3f8a3-7299389...         2539   \n1132  files/p13/p13859188/s52811469/0677ec27-6132843...         3056   \n\n      image_height                              bboxxywh  \n0             2021    196-1136-532-315|1009-1134-491-350  \n1             3050     1510-1268-755-796|454-690-637-670  \n2             2544                       265-90-880-2198  \n3             2544                      440-1316-758-332  \n4             2022                      165-138-544-1482  \n...            ...                                   ...  \n1128          2539  272-1740-1130-634|1631-1894-1284-485  \n1129          3056    109-1296-929-765|1316-1331-949-611  \n1130          1826    171-1141-789-460|1057-1198-760-435  \n1131          3050   322-972-1076-1239|1755-907-748-1304  \n1132          2544    601-1515-998-412|1813-1336-978-491  \n\n[1133 rows x 7 columns]",
      "text/html": "<div>\n<style scoped>\n    .dataframe tbody tr th:only-of-type {\n        vertical-align: middle;\n    }\n\n    .dataframe tbody tr th {\n        vertical-align: top;\n    }\n\n    .dataframe thead th {\n        text-align: right;\n    }\n</style>\n<table border=\"1\" class=\"dataframe\">\n  <thead>\n    <tr style=\"text-align: right;\">\n      <th></th>\n      <th>dicom_id</th>\n      <th>category_name</th>\n      <th>label_text</th>\n      <th>paths</th>\n      <th>image_width</th>\n      <th>image_height</th>\n      <th>bboxxywh</th>\n    </tr>\n  </thead>\n  <tbody>\n    <tr>\n      <th>0</th>\n      <td>675d792f-a3521e48-5eec8573-1e81d644-e60c34f8</td>\n      <td>Pneumonia</td>\n      <td>Bibasilar opacities|Bibasilar opacities</td>\n      <td>files/p10/p10233088/s54276838/675d792f-a3521e4...</td>\n      <td>1767</td>\n      <td>2021</td>\n      <td>196-1136-532-315|1009-1134-491-350</td>\n    </tr>\n    <tr>\n      <th>1</th>\n      <td>5318d353-daae9c3d-2ee8648e-32b65198-aeff801e</td>\n      <td>Pneumonia</td>\n      <td>Bilateral multifocal areas of consolidation|Bi...</td>\n      <td>files/p10/p10123147/s50230934/5318d353-daae9c3...</td>\n      <td>2539</td>\n      <td>3050</td>\n      <td>1510-1268-755-796|454-690-637-670</td>\n    </tr>\n    <tr>\n      <th>2</th>\n      <td>4decce85-c6ede74e-7a8bc81c-e81edee9-5ec17116</td>\n      <td>Pneumothorax</td>\n      <td>Large right-sided pneumothorax</td>\n      <td>files/p10/p10500801/s58577720/4decce85-c6ede74...</td>\n      <td>3056</td>\n      <td>2544</td>\n      <td>265-90-880-2198</td>\n    </tr>\n    <tr>\n      <th>3</th>\n      <td>08c206fa-15bc2f42-f8918f67-9efc66b9-c01f6feb</td>\n      <td>Pneumonia</td>\n      <td>More dense consolidation at the right lung bas...</td>\n      <td>files/p10/p10388470/s51417242/08c206fa-15bc2f4...</td>\n      <td>3056</td>\n      <td>2544</td>\n      <td>440-1316-758-332</td>\n    </tr>\n    <tr>\n      <th>4</th>\n      <td>00258b8f-48b301d2-0cdf26b5-240d3e63-5a92e789</td>\n      <td>Pneumothorax</td>\n      <td>Large right pneumothorax</td>\n      <td>files/p10/p10176514/s56875184/00258b8f-48b301d...</td>\n      <td>1630</td>\n      <td>2022</td>\n      <td>165-138-544-1482</td>\n    </tr>\n    <tr>\n      <th>...</th>\n      <td>...</td>\n      <td>...</td>\n      <td>...</td>\n      <td>...</td>\n      <td>...</td>\n      <td>...</td>\n      <td>...</td>\n    </tr>\n    <tr>\n      <th>1128</th>\n      <td>01c47909-29055dd7-7ccfb97f-a38194de-11a8c26d</td>\n      <td>Pleural Effusion</td>\n      <td>Small pleural effusions are present bilaterall...</td>\n      <td>files/p12/p12133670/s51759637/01c47909-29055dd...</td>\n      <td>3050</td>\n      <td>2539</td>\n      <td>272-1740-1130-634|1631-1894-1284-485</td>\n    </tr>\n    <tr>\n      <th>1129</th>\n      <td>adb67a2b-a1473b01-b1004ae8-e612d0c9-1c2b5e3b</td>\n      <td>Pleural Effusion</td>\n      <td>There is bilateral lower lobe volume loss and ...</td>\n      <td>files/p18/p18208545/s51034438/adb67a2b-a1473b0...</td>\n      <td>2544</td>\n      <td>3056</td>\n      <td>109-1296-929-765|1316-1331-949-611</td>\n    </tr>\n    <tr>\n      <th>1130</th>\n      <td>18e1246d-a9c790ca-6b40ea18-81b9ccc8-3469c113</td>\n      <td>Pleural Effusion</td>\n      <td>Small bilateral pleural effusions|Small bilate...</td>\n      <td>files/p15/p15445857/s50967054/18e1246d-a9c790c...</td>\n      <td>1950</td>\n      <td>1826</td>\n      <td>171-1141-789-460|1057-1198-760-435</td>\n    </tr>\n    <tr>\n      <th>1131</th>\n      <td>f7e3f8a3-7299389e-84a7eb76-0cb81c79-06875895</td>\n      <td>Pleural Effusion</td>\n      <td>Persistent moderate-to-large bilateral pleural...</td>\n      <td>files/p12/p12668169/s54438962/f7e3f8a3-7299389...</td>\n      <td>2539</td>\n      <td>3050</td>\n      <td>322-972-1076-1239|1755-907-748-1304</td>\n    </tr>\n    <tr>\n      <th>1132</th>\n      <td>0677ec27-61328435-0dfee3b9-356bfc03-8cbd3353</td>\n      <td>Pleural Effusion</td>\n      <td>Small bilateral pleural effusions are presumed...</td>\n      <td>files/p13/p13859188/s52811469/0677ec27-6132843...</td>\n      <td>3056</td>\n      <td>2544</td>\n      <td>601-1515-998-412|1813-1336-978-491</td>\n    </tr>\n  </tbody>\n</table>\n<p>1133 rows × 7 columns</p>\n</div>"
     },
     "execution_count": 80,
     "metadata": {},
     "output_type": "execute_result"
    }
   ],
   "source": [
    "metadata = pd.read_csv(\"/vol/ideadata/ed52egek/data/mimic/jpg/physionet.org/files/mimic-cxr-jpg/2.0.0/mimic_sccxr_preprocessed.csv\")\n",
    "metadata"
   ],
   "metadata": {
    "collapsed": false
   }
  },
  {
   "cell_type": "code",
   "execution_count": 29,
   "outputs": [
    {
     "data": {
      "text/plain": "                                            dicom_id  subject_id    study_id  \\\n0       1a1fe7e3-cbac5d93-b339aeda-86bb86b5-4f31e82e  19999987.0  58971208.0   \n1       7ba273af-3d290f8d-e28d0ab4-484b7a86-7fc12b08  19999987.0  58621812.0   \n2       3fcd0406-9b111603-feae7033-96632b3a-111333e5  19999733.0  57132437.0   \n3       428e2c18-5721d8f3-35a05001-36f3d080-9053b83c  19999733.0  57132437.0   \n4       53e9b6d0-5d5317f5-f1a4c031-01d40558-fd14a425  19999376.0  57540554.0   \n...                                              ...         ...         ...   \n186861  aaaf94b9-37d0427f-4d8c0285-e70028b4-e0b67870         NaN         NaN   \n186862  dbb71182-0081bef5-cba5a036-c71c0f59-925942e4         NaN         NaN   \n186863  01c47909-29055dd7-7ccfb97f-a38194de-11a8c26d         NaN         NaN   \n186864  adb67a2b-a1473b01-b1004ae8-e612d0c9-1c2b5e3b         NaN         NaN   \n186865  f7e3f8a3-7299389e-84a7eb76-0cb81c79-06875895         NaN         NaN   \n\n       PerformedProcedureStepDescription ViewPosition    Rows  Columns  \\\n0                    CHEST (PORTABLE AP)           AP  3056.0   2544.0   \n1                    CHEST (PORTABLE AP)           AP  3056.0   2544.0   \n2                     CHEST (PA AND LAT)           PA  3056.0   2544.0   \n3                     CHEST (PA AND LAT)           PA  3056.0   2544.0   \n4                    CHEST (PORTABLE AP)           AP  3056.0   2544.0   \n...                                  ...          ...     ...      ...   \n186861                               NaN          NaN     NaN      NaN   \n186862                               NaN          NaN     NaN      NaN   \n186863                               NaN          NaN     NaN      NaN   \n186864                               NaN          NaN     NaN      NaN   \n186865                               NaN          NaN     NaN      NaN   \n\n         StudyDate   StudyTime ProcedureCodeSequence_CodeMeaning  ...  \\\n0       21451103.0   50507.625               CHEST (PORTABLE AP)  ...   \n1       21451102.0  202809.234               CHEST (PORTABLE AP)  ...   \n2       21520708.0  224550.171                CHEST (PA AND LAT)  ...   \n3       21520708.0  224550.171                CHEST (PA AND LAT)  ...   \n4       21450731.0   45417.656               CHEST (PORTABLE AP)  ...   \n...            ...         ...                               ...  ...   \n186861         NaN         NaN                               NaN  ...   \n186862         NaN         NaN                               NaN  ...   \n186863         NaN         NaN                               NaN  ...   \n186864         NaN         NaN                               NaN  ...   \n186865         NaN         NaN                               NaN  ...   \n\n       Lung Opacity No Finding Pleural Effusion Pleural Other  Pneumonia  \\\n0               NaN        NaN              NaN           NaN        NaN   \n1               NaN        NaN              NaN           NaN        NaN   \n2               NaN        1.0              NaN           NaN        NaN   \n3               NaN        1.0              NaN           NaN        NaN   \n4               NaN        1.0              NaN           NaN        NaN   \n...             ...        ...              ...           ...        ...   \n186861          NaN        NaN              NaN           NaN        NaN   \n186862          NaN        NaN              NaN           NaN        NaN   \n186863          NaN        NaN              NaN           NaN        NaN   \n186864          NaN        NaN              NaN           NaN        NaN   \n186865          NaN        NaN              NaN           NaN        NaN   \n\n       Pneumothorax  Support Devices  \\\n0               NaN              NaN   \n1               NaN              1.0   \n2               NaN              NaN   \n3               NaN              NaN   \n4               NaN              NaN   \n...             ...              ...   \n186861          NaN              NaN   \n186862          NaN              NaN   \n186863          NaN              NaN   \n186864          NaN              NaN   \n186865          NaN              NaN   \n\n                                               impression  Finding Label  \\\n0       Slight interval worsening of right lower lung ...            NaN   \n1       Appropriately positioned ET and NG tubes.  Bib...            NaN   \n2                        No acute cardiothoracic process.            NaN   \n3                        No acute cardiothoracic process.            NaN   \n4       No acute cardiopulmonary process.  No evidence...            NaN   \n...                                                   ...            ...   \n186861                                                NaN            NaN   \n186862                                                NaN            NaN   \n186863                                                NaN            NaN   \n186864                                                NaN            NaN   \n186865                                                NaN            NaN   \n\n                     Finding Labels  \n0                       Atelectasis  \n1       Atelectasis|Support Devices  \n2                        No Finding  \n3                        No Finding  \n4                        No Finding  \n...                             ...  \n186861                          NaN  \n186862                          NaN  \n186863                          NaN  \n186864                          NaN  \n186865                          NaN  \n\n[186866 rows x 33 columns]",
      "text/html": "<div>\n<style scoped>\n    .dataframe tbody tr th:only-of-type {\n        vertical-align: middle;\n    }\n\n    .dataframe tbody tr th {\n        vertical-align: top;\n    }\n\n    .dataframe thead th {\n        text-align: right;\n    }\n</style>\n<table border=\"1\" class=\"dataframe\">\n  <thead>\n    <tr style=\"text-align: right;\">\n      <th></th>\n      <th>dicom_id</th>\n      <th>subject_id</th>\n      <th>study_id</th>\n      <th>PerformedProcedureStepDescription</th>\n      <th>ViewPosition</th>\n      <th>Rows</th>\n      <th>Columns</th>\n      <th>StudyDate</th>\n      <th>StudyTime</th>\n      <th>ProcedureCodeSequence_CodeMeaning</th>\n      <th>...</th>\n      <th>Lung Opacity</th>\n      <th>No Finding</th>\n      <th>Pleural Effusion</th>\n      <th>Pleural Other</th>\n      <th>Pneumonia</th>\n      <th>Pneumothorax</th>\n      <th>Support Devices</th>\n      <th>impression</th>\n      <th>Finding Label</th>\n      <th>Finding Labels</th>\n    </tr>\n  </thead>\n  <tbody>\n    <tr>\n      <th>0</th>\n      <td>1a1fe7e3-cbac5d93-b339aeda-86bb86b5-4f31e82e</td>\n      <td>19999987.0</td>\n      <td>58971208.0</td>\n      <td>CHEST (PORTABLE AP)</td>\n      <td>AP</td>\n      <td>3056.0</td>\n      <td>2544.0</td>\n      <td>21451103.0</td>\n      <td>50507.625</td>\n      <td>CHEST (PORTABLE AP)</td>\n      <td>...</td>\n      <td>NaN</td>\n      <td>NaN</td>\n      <td>NaN</td>\n      <td>NaN</td>\n      <td>NaN</td>\n      <td>NaN</td>\n      <td>NaN</td>\n      <td>Slight interval worsening of right lower lung ...</td>\n      <td>NaN</td>\n      <td>Atelectasis</td>\n    </tr>\n    <tr>\n      <th>1</th>\n      <td>7ba273af-3d290f8d-e28d0ab4-484b7a86-7fc12b08</td>\n      <td>19999987.0</td>\n      <td>58621812.0</td>\n      <td>CHEST (PORTABLE AP)</td>\n      <td>AP</td>\n      <td>3056.0</td>\n      <td>2544.0</td>\n      <td>21451102.0</td>\n      <td>202809.234</td>\n      <td>CHEST (PORTABLE AP)</td>\n      <td>...</td>\n      <td>NaN</td>\n      <td>NaN</td>\n      <td>NaN</td>\n      <td>NaN</td>\n      <td>NaN</td>\n      <td>NaN</td>\n      <td>1.0</td>\n      <td>Appropriately positioned ET and NG tubes.  Bib...</td>\n      <td>NaN</td>\n      <td>Atelectasis|Support Devices</td>\n    </tr>\n    <tr>\n      <th>2</th>\n      <td>3fcd0406-9b111603-feae7033-96632b3a-111333e5</td>\n      <td>19999733.0</td>\n      <td>57132437.0</td>\n      <td>CHEST (PA AND LAT)</td>\n      <td>PA</td>\n      <td>3056.0</td>\n      <td>2544.0</td>\n      <td>21520708.0</td>\n      <td>224550.171</td>\n      <td>CHEST (PA AND LAT)</td>\n      <td>...</td>\n      <td>NaN</td>\n      <td>1.0</td>\n      <td>NaN</td>\n      <td>NaN</td>\n      <td>NaN</td>\n      <td>NaN</td>\n      <td>NaN</td>\n      <td>No acute cardiothoracic process.</td>\n      <td>NaN</td>\n      <td>No Finding</td>\n    </tr>\n    <tr>\n      <th>3</th>\n      <td>428e2c18-5721d8f3-35a05001-36f3d080-9053b83c</td>\n      <td>19999733.0</td>\n      <td>57132437.0</td>\n      <td>CHEST (PA AND LAT)</td>\n      <td>PA</td>\n      <td>3056.0</td>\n      <td>2544.0</td>\n      <td>21520708.0</td>\n      <td>224550.171</td>\n      <td>CHEST (PA AND LAT)</td>\n      <td>...</td>\n      <td>NaN</td>\n      <td>1.0</td>\n      <td>NaN</td>\n      <td>NaN</td>\n      <td>NaN</td>\n      <td>NaN</td>\n      <td>NaN</td>\n      <td>No acute cardiothoracic process.</td>\n      <td>NaN</td>\n      <td>No Finding</td>\n    </tr>\n    <tr>\n      <th>4</th>\n      <td>53e9b6d0-5d5317f5-f1a4c031-01d40558-fd14a425</td>\n      <td>19999376.0</td>\n      <td>57540554.0</td>\n      <td>CHEST (PORTABLE AP)</td>\n      <td>AP</td>\n      <td>3056.0</td>\n      <td>2544.0</td>\n      <td>21450731.0</td>\n      <td>45417.656</td>\n      <td>CHEST (PORTABLE AP)</td>\n      <td>...</td>\n      <td>NaN</td>\n      <td>1.0</td>\n      <td>NaN</td>\n      <td>NaN</td>\n      <td>NaN</td>\n      <td>NaN</td>\n      <td>NaN</td>\n      <td>No acute cardiopulmonary process.  No evidence...</td>\n      <td>NaN</td>\n      <td>No Finding</td>\n    </tr>\n    <tr>\n      <th>...</th>\n      <td>...</td>\n      <td>...</td>\n      <td>...</td>\n      <td>...</td>\n      <td>...</td>\n      <td>...</td>\n      <td>...</td>\n      <td>...</td>\n      <td>...</td>\n      <td>...</td>\n      <td>...</td>\n      <td>...</td>\n      <td>...</td>\n      <td>...</td>\n      <td>...</td>\n      <td>...</td>\n      <td>...</td>\n      <td>...</td>\n      <td>...</td>\n      <td>...</td>\n      <td>...</td>\n    </tr>\n    <tr>\n      <th>186861</th>\n      <td>aaaf94b9-37d0427f-4d8c0285-e70028b4-e0b67870</td>\n      <td>NaN</td>\n      <td>NaN</td>\n      <td>NaN</td>\n      <td>NaN</td>\n      <td>NaN</td>\n      <td>NaN</td>\n      <td>NaN</td>\n      <td>NaN</td>\n      <td>NaN</td>\n      <td>...</td>\n      <td>NaN</td>\n      <td>NaN</td>\n      <td>NaN</td>\n      <td>NaN</td>\n      <td>NaN</td>\n      <td>NaN</td>\n      <td>NaN</td>\n      <td>NaN</td>\n      <td>NaN</td>\n      <td>NaN</td>\n    </tr>\n    <tr>\n      <th>186862</th>\n      <td>dbb71182-0081bef5-cba5a036-c71c0f59-925942e4</td>\n      <td>NaN</td>\n      <td>NaN</td>\n      <td>NaN</td>\n      <td>NaN</td>\n      <td>NaN</td>\n      <td>NaN</td>\n      <td>NaN</td>\n      <td>NaN</td>\n      <td>NaN</td>\n      <td>...</td>\n      <td>NaN</td>\n      <td>NaN</td>\n      <td>NaN</td>\n      <td>NaN</td>\n      <td>NaN</td>\n      <td>NaN</td>\n      <td>NaN</td>\n      <td>NaN</td>\n      <td>NaN</td>\n      <td>NaN</td>\n    </tr>\n    <tr>\n      <th>186863</th>\n      <td>01c47909-29055dd7-7ccfb97f-a38194de-11a8c26d</td>\n      <td>NaN</td>\n      <td>NaN</td>\n      <td>NaN</td>\n      <td>NaN</td>\n      <td>NaN</td>\n      <td>NaN</td>\n      <td>NaN</td>\n      <td>NaN</td>\n      <td>NaN</td>\n      <td>...</td>\n      <td>NaN</td>\n      <td>NaN</td>\n      <td>NaN</td>\n      <td>NaN</td>\n      <td>NaN</td>\n      <td>NaN</td>\n      <td>NaN</td>\n      <td>NaN</td>\n      <td>NaN</td>\n      <td>NaN</td>\n    </tr>\n    <tr>\n      <th>186864</th>\n      <td>adb67a2b-a1473b01-b1004ae8-e612d0c9-1c2b5e3b</td>\n      <td>NaN</td>\n      <td>NaN</td>\n      <td>NaN</td>\n      <td>NaN</td>\n      <td>NaN</td>\n      <td>NaN</td>\n      <td>NaN</td>\n      <td>NaN</td>\n      <td>NaN</td>\n      <td>...</td>\n      <td>NaN</td>\n      <td>NaN</td>\n      <td>NaN</td>\n      <td>NaN</td>\n      <td>NaN</td>\n      <td>NaN</td>\n      <td>NaN</td>\n      <td>NaN</td>\n      <td>NaN</td>\n      <td>NaN</td>\n    </tr>\n    <tr>\n      <th>186865</th>\n      <td>f7e3f8a3-7299389e-84a7eb76-0cb81c79-06875895</td>\n      <td>NaN</td>\n      <td>NaN</td>\n      <td>NaN</td>\n      <td>NaN</td>\n      <td>NaN</td>\n      <td>NaN</td>\n      <td>NaN</td>\n      <td>NaN</td>\n      <td>NaN</td>\n      <td>...</td>\n      <td>NaN</td>\n      <td>NaN</td>\n      <td>NaN</td>\n      <td>NaN</td>\n      <td>NaN</td>\n      <td>NaN</td>\n      <td>NaN</td>\n      <td>NaN</td>\n      <td>NaN</td>\n      <td>NaN</td>\n    </tr>\n  </tbody>\n</table>\n<p>186866 rows × 33 columns</p>\n</div>"
     },
     "execution_count": 29,
     "metadata": {},
     "output_type": "execute_result"
    }
   ],
   "source": [
    "metadata_mimic = pd.read_csv(\"/vol/ideadata/ed52egek/data/mimic/mimic_metadata_preprocessed.csv\")\n",
    "metadata_mimic"
   ],
   "metadata": {
    "collapsed": false
   }
  },
  {
   "cell_type": "code",
   "execution_count": 51,
   "outputs": [
    {
     "data": {
      "text/plain": "'                                 FINAL REPORT\\n INDICATION:  Shortness of breath on the right side.\\n \\n COMPARISON:  Chest CTA ___ and chest radiograph ___.\\n \\n PA AND LATERAL VIEWS OF THE CHEST:  Large right-sided pneumothorax is\\n demonstrated with leftward shift of mediastinal structures compatible with\\n tension.  The left lung is hyperinflated with evidence of emphysema.  No\\n pleural effusion or pulmonary vascular congestion is seen.   The heart size is\\n normal.  The mediastinal contours are unremarkable.  Streaky linear opacities\\n within the visualized left lung likely reflect bronchiectasis. There are\\n multilevel degenerative changes in the thoracic spine. \\n \\n IMPRESSION:  Large right-sided pneumothorax with mild leftward shift of\\n mediastinal structures indicative of tension.  Findings discussed with Dr.\\n ___ by Dr. ___ ___ phone on ___ at 2:31 p.m.\\n'"
     },
     "execution_count": 51,
     "metadata": {},
     "output_type": "execute_result"
    }
   ],
   "source": [
    "dicom_id = \"4decce85-c6ede74e-7a8bc81c-e81edee9-5ec17116\"\n",
    "path = os.path.join(\"/vol/ideadata/ed52egek/data/mimic/physionet.org/files/mimic-cxr/2.0.0/reports\", \"/\".join(metadata[metadata[\"dicom_id\"] == dicom_id].iloc[0][\"paths\"].split(\"/\")[:-1])) + \".txt\"\n",
    "with open(path, \"r\") as fp:\n",
    "    impression = fp.read()\n",
    "\n",
    "impression"
   ],
   "metadata": {
    "collapsed": false
   }
  },
  {
   "cell_type": "code",
   "execution_count": 52,
   "outputs": [],
   "source": [
    "impressions = []\n",
    "for i in range(len(metadata)):\n",
    "    dicom_id = metadata.iloc[i][\"dicom_id\"]\n",
    "    path = os.path.join(\"/vol/ideadata/ed52egek/data/mimic/physionet.org/files/mimic-cxr/2.0.0/reports\", \"/\".join(metadata[metadata[\"dicom_id\"] == dicom_id].iloc[0][\"paths\"].split(\"/\")[:-1])) + \".txt\"\n",
    "    with open(path, \"r\") as fp:\n",
    "        impressions.append(fp.read())\n",
    "\n"
   ],
   "metadata": {
    "collapsed": false
   }
  },
  {
   "cell_type": "code",
   "execution_count": 72,
   "outputs": [
    {
     "data": {
      "text/plain": "['Increased bibasilar opacities consistent with worsening multifocal pneumonia.',\n '',\n 'Large right-sided pneumothorax with mild leftward shift of mediastinal structures indicative of tension.  Findings discussed with Dr. ___ by Dr. ___ ___ phone on ___ at 2:31 p.m.',\n 'Moderate bilateral pleural effusions and associated atelectasis.  More dense consolidation at the right lung base raises possibility of superimposed infection.']"
     },
     "execution_count": 72,
     "metadata": {},
     "output_type": "execute_result"
    }
   ],
   "source": [
    "tidy_impressions = []\n",
    "su = 0\n",
    "for i in range(len(impressions)):\n",
    "    text = impressions[i].split(\"IMPRESSION:\")\n",
    "    if len(text) != 2:\n",
    "        tidy_impressions.append(\"\")\n",
    "    else:\n",
    "        tidy_impressions.append(text[-1].strip().replace(\"\\n\", \"\"))\n",
    "\n",
    "tidy_impressions[:4]\n"
   ],
   "metadata": {
    "collapsed": false
   }
  },
  {
   "cell_type": "code",
   "execution_count": 89,
   "outputs": [
    {
     "name": "stdout",
     "output_type": "stream",
     "text": [
      "oi\n"
     ]
    },
    {
     "data": {
      "text/plain": "                                       dicom_id category_name  \\\n0  675d792f-a3521e48-5eec8573-1e81d644-e60c34f8     Pneumonia   \n1  5318d353-daae9c3d-2ee8648e-32b65198-aeff801e     Pneumonia   \n2  4decce85-c6ede74e-7a8bc81c-e81edee9-5ec17116  Pneumothorax   \n3  08c206fa-15bc2f42-f8918f67-9efc66b9-c01f6feb     Pneumonia   \n4  00258b8f-48b301d2-0cdf26b5-240d3e63-5a92e789  Pneumothorax   \n\n                                          label_text  \\\n0  Increased bibasilar opacities consistent with ...   \n1                                                      \n2  Large right-sided pneumothorax with mild leftw...   \n3  Moderate bilateral pleural effusions and assoc...   \n4                    Stable large right pneumothorax   \n\n                                               paths  image_width  \\\n0  files/p10/p10233088/s54276838/675d792f-a3521e4...         1767   \n1  files/p10/p10123147/s50230934/5318d353-daae9c3...         2539   \n2  files/p10/p10500801/s58577720/4decce85-c6ede74...         3056   \n3  files/p10/p10388470/s51417242/08c206fa-15bc2f4...         3056   \n4  files/p10/p10176514/s56875184/00258b8f-48b301d...         1630   \n\n   image_height                            bboxxywh  \\\n0          2021  196-1136-532-315|1009-1134-491-350   \n1          3050   1510-1268-755-796|454-690-637-670   \n2          2544                     265-90-880-2198   \n3          2544                    440-1316-758-332   \n4          2022                    165-138-544-1482   \n\n                                          impression  \n0  Increased bibasilar opacities consistent with ...  \n1                                                     \n2  Large right-sided pneumothorax with mild leftw...  \n3  Moderate bilateral pleural effusions and assoc...  \n4                    Stable large right pneumothorax  ",
      "text/html": "<div>\n<style scoped>\n    .dataframe tbody tr th:only-of-type {\n        vertical-align: middle;\n    }\n\n    .dataframe tbody tr th {\n        vertical-align: top;\n    }\n\n    .dataframe thead th {\n        text-align: right;\n    }\n</style>\n<table border=\"1\" class=\"dataframe\">\n  <thead>\n    <tr style=\"text-align: right;\">\n      <th></th>\n      <th>dicom_id</th>\n      <th>category_name</th>\n      <th>label_text</th>\n      <th>paths</th>\n      <th>image_width</th>\n      <th>image_height</th>\n      <th>bboxxywh</th>\n      <th>impression</th>\n    </tr>\n  </thead>\n  <tbody>\n    <tr>\n      <th>0</th>\n      <td>675d792f-a3521e48-5eec8573-1e81d644-e60c34f8</td>\n      <td>Pneumonia</td>\n      <td>Increased bibasilar opacities consistent with ...</td>\n      <td>files/p10/p10233088/s54276838/675d792f-a3521e4...</td>\n      <td>1767</td>\n      <td>2021</td>\n      <td>196-1136-532-315|1009-1134-491-350</td>\n      <td>Increased bibasilar opacities consistent with ...</td>\n    </tr>\n    <tr>\n      <th>1</th>\n      <td>5318d353-daae9c3d-2ee8648e-32b65198-aeff801e</td>\n      <td>Pneumonia</td>\n      <td></td>\n      <td>files/p10/p10123147/s50230934/5318d353-daae9c3...</td>\n      <td>2539</td>\n      <td>3050</td>\n      <td>1510-1268-755-796|454-690-637-670</td>\n      <td></td>\n    </tr>\n    <tr>\n      <th>2</th>\n      <td>4decce85-c6ede74e-7a8bc81c-e81edee9-5ec17116</td>\n      <td>Pneumothorax</td>\n      <td>Large right-sided pneumothorax with mild leftw...</td>\n      <td>files/p10/p10500801/s58577720/4decce85-c6ede74...</td>\n      <td>3056</td>\n      <td>2544</td>\n      <td>265-90-880-2198</td>\n      <td>Large right-sided pneumothorax with mild leftw...</td>\n    </tr>\n    <tr>\n      <th>3</th>\n      <td>08c206fa-15bc2f42-f8918f67-9efc66b9-c01f6feb</td>\n      <td>Pneumonia</td>\n      <td>Moderate bilateral pleural effusions and assoc...</td>\n      <td>files/p10/p10388470/s51417242/08c206fa-15bc2f4...</td>\n      <td>3056</td>\n      <td>2544</td>\n      <td>440-1316-758-332</td>\n      <td>Moderate bilateral pleural effusions and assoc...</td>\n    </tr>\n    <tr>\n      <th>4</th>\n      <td>00258b8f-48b301d2-0cdf26b5-240d3e63-5a92e789</td>\n      <td>Pneumothorax</td>\n      <td>Stable large right pneumothorax</td>\n      <td>files/p10/p10176514/s56875184/00258b8f-48b301d...</td>\n      <td>1630</td>\n      <td>2022</td>\n      <td>165-138-544-1482</td>\n      <td>Stable large right pneumothorax</td>\n    </tr>\n  </tbody>\n</table>\n</div>"
     },
     "execution_count": 89,
     "metadata": {},
     "output_type": "execute_result"
    }
   ],
   "source": [
    "metadata[\"label_text\"] = tidy_impressions\n",
    "meta"
   ],
   "metadata": {
    "collapsed": false
   }
  },
  {
   "cell_type": "code",
   "execution_count": 92,
   "outputs": [
    {
     "data": {
      "text/plain": "                                          dicom_id     category_name  \\\n0     675d792f-a3521e48-5eec8573-1e81d644-e60c34f8         Pneumonia   \n2     4decce85-c6ede74e-7a8bc81c-e81edee9-5ec17116      Pneumothorax   \n3     08c206fa-15bc2f42-f8918f67-9efc66b9-c01f6feb         Pneumonia   \n4     00258b8f-48b301d2-0cdf26b5-240d3e63-5a92e789      Pneumothorax   \n5     0bd6e8c7-8a005ad1-8975bd65-6f25528f-28f4a2c8         Pneumonia   \n...                                            ...               ...   \n1123  e47abb05-dec27a0e-e5af4d59-1fd1d5a0-1c34655e  Pleural Effusion   \n1124  a8c08cbf-15ac0dac-b76a40a0-dab826c7-18015767  Pleural Effusion   \n1125  be319f71-2b1ab302-55580f5d-ffc6e9e0-9e90689a  Pleural Effusion   \n1130  18e1246d-a9c790ca-6b40ea18-81b9ccc8-3469c113  Pleural Effusion   \n1132  0677ec27-61328435-0dfee3b9-356bfc03-8cbd3353  Pleural Effusion   \n\n                                             label_text  \\\n0     Increased bibasilar opacities consistent with ...   \n2     Large right-sided pneumothorax with mild leftw...   \n3     Moderate bilateral pleural effusions and assoc...   \n4                       Stable large right pneumothorax   \n5     Left basilar opacity potentially infection in ...   \n...                                                 ...   \n1123  AP chest compared to ___:  Mild-to-moderate le...   \n1124  Progression of postoperative healing, status p...   \n1125  1.  Nerve stimulating device is seen overlying...   \n1130  1.  Interval improvement in the patient's now ...   \n1132  Mild to moderate pulmonary edema superimposed ...   \n\n                                                  paths  image_width  \\\n0     files/p10/p10233088/s54276838/675d792f-a3521e4...         1767   \n2     files/p10/p10500801/s58577720/4decce85-c6ede74...         3056   \n3     files/p10/p10388470/s51417242/08c206fa-15bc2f4...         3056   \n4     files/p10/p10176514/s56875184/00258b8f-48b301d...         1630   \n5     files/p10/p10446794/s51668285/0bd6e8c7-8a005ad...         3056   \n...                                                 ...          ...   \n1123  files/p17/p17865089/s59717631/e47abb05-dec27a0...         3056   \n1124  files/p19/p19991135/s50286241/a8c08cbf-15ac0da...         1736   \n1125  files/p17/p17112432/s56998267/be319f71-2b1ab30...         2021   \n1130  files/p15/p15445857/s50967054/18e1246d-a9c790c...         1950   \n1132  files/p13/p13859188/s52811469/0677ec27-6132843...         3056   \n\n      image_height                            bboxxywh  \\\n0             2021  196-1136-532-315|1009-1134-491-350   \n2             2544                     265-90-880-2198   \n3             2544                    440-1316-758-332   \n4             2022                    165-138-544-1482   \n5             2544                   2045-1704-748-384   \n...            ...                                 ...   \n1123          2544                     99-1883-964-432   \n1124          2022     436-183-356-362|156-362-240-788   \n1125          2021                     338-528-227-270   \n1130          1826  171-1141-789-460|1057-1198-760-435   \n1132          2544  601-1515-998-412|1813-1336-978-491   \n\n                                             impression  \n0     Increased bibasilar opacities consistent with ...  \n2     Large right-sided pneumothorax with mild leftw...  \n3     Moderate bilateral pleural effusions and assoc...  \n4                       Stable large right pneumothorax  \n5     Left basilar opacity potentially infection in ...  \n...                                                 ...  \n1123  AP chest compared to ___:  Mild-to-moderate le...  \n1124  Progression of postoperative healing, status p...  \n1125  1.  Nerve stimulating device is seen overlying...  \n1130  1.  Interval improvement in the patient's now ...  \n1132  Mild to moderate pulmonary edema superimposed ...  \n\n[909 rows x 8 columns]",
      "text/html": "<div>\n<style scoped>\n    .dataframe tbody tr th:only-of-type {\n        vertical-align: middle;\n    }\n\n    .dataframe tbody tr th {\n        vertical-align: top;\n    }\n\n    .dataframe thead th {\n        text-align: right;\n    }\n</style>\n<table border=\"1\" class=\"dataframe\">\n  <thead>\n    <tr style=\"text-align: right;\">\n      <th></th>\n      <th>dicom_id</th>\n      <th>category_name</th>\n      <th>label_text</th>\n      <th>paths</th>\n      <th>image_width</th>\n      <th>image_height</th>\n      <th>bboxxywh</th>\n      <th>impression</th>\n    </tr>\n  </thead>\n  <tbody>\n    <tr>\n      <th>0</th>\n      <td>675d792f-a3521e48-5eec8573-1e81d644-e60c34f8</td>\n      <td>Pneumonia</td>\n      <td>Increased bibasilar opacities consistent with ...</td>\n      <td>files/p10/p10233088/s54276838/675d792f-a3521e4...</td>\n      <td>1767</td>\n      <td>2021</td>\n      <td>196-1136-532-315|1009-1134-491-350</td>\n      <td>Increased bibasilar opacities consistent with ...</td>\n    </tr>\n    <tr>\n      <th>2</th>\n      <td>4decce85-c6ede74e-7a8bc81c-e81edee9-5ec17116</td>\n      <td>Pneumothorax</td>\n      <td>Large right-sided pneumothorax with mild leftw...</td>\n      <td>files/p10/p10500801/s58577720/4decce85-c6ede74...</td>\n      <td>3056</td>\n      <td>2544</td>\n      <td>265-90-880-2198</td>\n      <td>Large right-sided pneumothorax with mild leftw...</td>\n    </tr>\n    <tr>\n      <th>3</th>\n      <td>08c206fa-15bc2f42-f8918f67-9efc66b9-c01f6feb</td>\n      <td>Pneumonia</td>\n      <td>Moderate bilateral pleural effusions and assoc...</td>\n      <td>files/p10/p10388470/s51417242/08c206fa-15bc2f4...</td>\n      <td>3056</td>\n      <td>2544</td>\n      <td>440-1316-758-332</td>\n      <td>Moderate bilateral pleural effusions and assoc...</td>\n    </tr>\n    <tr>\n      <th>4</th>\n      <td>00258b8f-48b301d2-0cdf26b5-240d3e63-5a92e789</td>\n      <td>Pneumothorax</td>\n      <td>Stable large right pneumothorax</td>\n      <td>files/p10/p10176514/s56875184/00258b8f-48b301d...</td>\n      <td>1630</td>\n      <td>2022</td>\n      <td>165-138-544-1482</td>\n      <td>Stable large right pneumothorax</td>\n    </tr>\n    <tr>\n      <th>5</th>\n      <td>0bd6e8c7-8a005ad1-8975bd65-6f25528f-28f4a2c8</td>\n      <td>Pneumonia</td>\n      <td>Left basilar opacity potentially infection in ...</td>\n      <td>files/p10/p10446794/s51668285/0bd6e8c7-8a005ad...</td>\n      <td>3056</td>\n      <td>2544</td>\n      <td>2045-1704-748-384</td>\n      <td>Left basilar opacity potentially infection in ...</td>\n    </tr>\n    <tr>\n      <th>...</th>\n      <td>...</td>\n      <td>...</td>\n      <td>...</td>\n      <td>...</td>\n      <td>...</td>\n      <td>...</td>\n      <td>...</td>\n      <td>...</td>\n    </tr>\n    <tr>\n      <th>1123</th>\n      <td>e47abb05-dec27a0e-e5af4d59-1fd1d5a0-1c34655e</td>\n      <td>Pleural Effusion</td>\n      <td>AP chest compared to ___:  Mild-to-moderate le...</td>\n      <td>files/p17/p17865089/s59717631/e47abb05-dec27a0...</td>\n      <td>3056</td>\n      <td>2544</td>\n      <td>99-1883-964-432</td>\n      <td>AP chest compared to ___:  Mild-to-moderate le...</td>\n    </tr>\n    <tr>\n      <th>1124</th>\n      <td>a8c08cbf-15ac0dac-b76a40a0-dab826c7-18015767</td>\n      <td>Pleural Effusion</td>\n      <td>Progression of postoperative healing, status p...</td>\n      <td>files/p19/p19991135/s50286241/a8c08cbf-15ac0da...</td>\n      <td>1736</td>\n      <td>2022</td>\n      <td>436-183-356-362|156-362-240-788</td>\n      <td>Progression of postoperative healing, status p...</td>\n    </tr>\n    <tr>\n      <th>1125</th>\n      <td>be319f71-2b1ab302-55580f5d-ffc6e9e0-9e90689a</td>\n      <td>Pleural Effusion</td>\n      <td>1.  Nerve stimulating device is seen overlying...</td>\n      <td>files/p17/p17112432/s56998267/be319f71-2b1ab30...</td>\n      <td>2021</td>\n      <td>2021</td>\n      <td>338-528-227-270</td>\n      <td>1.  Nerve stimulating device is seen overlying...</td>\n    </tr>\n    <tr>\n      <th>1130</th>\n      <td>18e1246d-a9c790ca-6b40ea18-81b9ccc8-3469c113</td>\n      <td>Pleural Effusion</td>\n      <td>1.  Interval improvement in the patient's now ...</td>\n      <td>files/p15/p15445857/s50967054/18e1246d-a9c790c...</td>\n      <td>1950</td>\n      <td>1826</td>\n      <td>171-1141-789-460|1057-1198-760-435</td>\n      <td>1.  Interval improvement in the patient's now ...</td>\n    </tr>\n    <tr>\n      <th>1132</th>\n      <td>0677ec27-61328435-0dfee3b9-356bfc03-8cbd3353</td>\n      <td>Pleural Effusion</td>\n      <td>Mild to moderate pulmonary edema superimposed ...</td>\n      <td>files/p13/p13859188/s52811469/0677ec27-6132843...</td>\n      <td>3056</td>\n      <td>2544</td>\n      <td>601-1515-998-412|1813-1336-978-491</td>\n      <td>Mild to moderate pulmonary edema superimposed ...</td>\n    </tr>\n  </tbody>\n</table>\n<p>909 rows × 8 columns</p>\n</div>"
     },
     "execution_count": 92,
     "metadata": {},
     "output_type": "execute_result"
    }
   ],
   "source": [
    "metadata = metadata[metadata[\"label_text\"] != \"\"]\n",
    "metadata"
   ],
   "metadata": {
    "collapsed": false
   }
  },
  {
   "cell_type": "code",
   "execution_count": 93,
   "outputs": [
    {
     "name": "stdout",
     "output_type": "stream",
     "text": [
      "oi\n"
     ]
    }
   ],
   "source": [
    "metadata.to_csv(\"mcxr_with_impressions.csv\")\n",
    "print(\"oi\")"
   ],
   "metadata": {
    "collapsed": false
   }
  },
  {
   "cell_type": "code",
   "execution_count": 91,
   "outputs": [
    {
     "data": {
      "text/plain": "'/vol/ideadata/ed52egek/pycharm/chest-distillation'"
     },
     "execution_count": 91,
     "metadata": {},
     "output_type": "execute_result"
    }
   ],
   "source": [
    "os.path.abspath(\".\")"
   ],
   "metadata": {
    "collapsed": false
   }
  }
 ],
 "metadata": {
  "kernelspec": {
   "display_name": "Python 3",
   "language": "python",
   "name": "python3"
  },
  "language_info": {
   "codemirror_mode": {
    "name": "ipython",
    "version": 2
   },
   "file_extension": ".py",
   "mimetype": "text/x-python",
   "name": "python",
   "nbconvert_exporter": "python",
   "pygments_lexer": "ipython2",
   "version": "2.7.6"
  }
 },
 "nbformat": 4,
 "nbformat_minor": 0
}
